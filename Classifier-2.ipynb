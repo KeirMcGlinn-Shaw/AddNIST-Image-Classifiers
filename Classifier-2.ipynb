{
  "cells": [
    {
      "cell_type": "markdown",
      "metadata": {
        "id": "uckWdqwWBKUS"
      },
      "source": [
        "# Classifier 2\n",
        "This classifier works by training the model directly on the training sets of the AddNIST dataset. The model itself is constructed using a pre-built model from Keras' library of models. The model selected is DenseNet201 (https://keras.io/api/applications/densenet/)"
      ]
    },
    {
      "cell_type": "markdown",
      "metadata": {
        "id": "Iw6KdNu5vhpZ"
      },
      "source": [
        "### Connect to Google Drive to retrieve data\n",
        "You can use the below cell to connect to your own google drive, if that is where you are storing the addNIST data you want to use for this notebook. If you are using data stored locally, leave this cell commented out."
      ]
    },
    {
      "cell_type": "code",
      "execution_count": null,
      "metadata": {
        "id": "Sc4AJyBjtHcN"
      },
      "outputs": [],
      "source": [
        "# to access google drive folder\n",
        "# from google.colab import drive\n",
        "# drive.mount('/content/drive') # When you run this you'll be prompted for a token - follow the link to generate this."
      ]
    },
    {
      "cell_type": "markdown",
      "metadata": {
        "id": "bC2GeKqpvrGA"
      },
      "source": [
        "### Load data"
      ]
    },
    {
      "cell_type": "code",
      "execution_count": null,
      "metadata": {
        "id": "50jMPuN3tSyO"
      },
      "outputs": [],
      "source": [
        "import numpy as np\n",
        "\n",
        "train_x = np.load(\"data/MNP/train_x.npy\", allow_pickle=True)\n",
        "\n",
        "# Alternative file-path for use with Google Drive, if that is where you have stored your AddNIST data\n",
        "#train_x = np.load(\"/content/drive/MyDrive/data/MNP/train_x.npy\", allow_pickle=True)"
      ]
    },
    {
      "cell_type": "code",
      "execution_count": null,
      "metadata": {
        "id": "o6AUUCiGtWM7"
      },
      "outputs": [],
      "source": [
        "train_y = np.load(\"data/MNP/train_y.npy\", allow_pickle=True)\n",
        "\n",
        "# Alternative file-path for use with Google Drive, if that is where you have stored your AddNIST data\n",
        "#train_y = np.load(\"/content/drive/MyDrive/data/MNP/train_y.npy\", allow_pickle=True)"
      ]
    },
    {
      "cell_type": "code",
      "execution_count": null,
      "metadata": {
        "id": "7rYykZHO89qJ"
      },
      "outputs": [],
      "source": [
        "validate_x = np.load(\"data/MNP/valid_x.npy\", allow_pickle=True)\n",
        "\n",
        "# Alternative file-path for use with Google Drive, if that is where you have stored your AddNIST data\n",
        "#validate_x = np.load(\"/content/drive/MyDrive/data/MNP/valid_x.npy\", allow_pickle=True)"
      ]
    },
    {
      "cell_type": "code",
      "execution_count": null,
      "metadata": {
        "id": "Epod6k5h9FNu"
      },
      "outputs": [],
      "source": [
        "validate_y = np.load(\"data/MNP/valid_y.npy\", allow_pickle=True)\n",
        "\n",
        "# Alternative file-path for use with Google Drive, if that is where you have stored your AddNIST data\n",
        "#validate_y = np.load(\"/content/drive/MyDrive/data/MNP/valid_y.npy\", allow_pickle=True)"
      ]
    },
    {
      "cell_type": "code",
      "execution_count": null,
      "metadata": {
        "id": "8KuZQCe-9s3R"
      },
      "outputs": [],
      "source": [
        "test_x = np.load(\"data/MNP/test_x.npy\", allow_pickle=True)\n",
        "\n",
        "# Alternative file-path for use with Google Drive, if that is where you have stored your AddNIST data\n",
        "#test_x = np.load(\"/content/drive/MyDrive/data/MNP/test_x.npy\", allow_pickle=True)"
      ]
    },
    {
      "cell_type": "code",
      "execution_count": null,
      "metadata": {
        "id": "01hcEICvL9BN"
      },
      "outputs": [],
      "source": [
        "test_y = np.load(\"data/MNP/test_y.npy\", allow_pickle=True)\n",
        "\n",
        "# Alternative file-path for use with Google Drive, if that is where you have stored your AddNIST data\n",
        "#test_y = np.load(\"/content/drive/MyDrive/data/MNP/test_y.npy\", allow_pickle=True)"
      ]
    },
    {
      "cell_type": "markdown",
      "metadata": {
        "id": "pjqB25NKejWy"
      },
      "source": [
        "### Check the shape of the data"
      ]
    },
    {
      "cell_type": "code",
      "execution_count": null,
      "metadata": {
        "id": "_qZpYDm79z1u"
      },
      "outputs": [],
      "source": [
        "print(\"train_x shape:\", train_x.shape)\n",
        "print(\"validate_x shape:\", validate_x.shape)\n",
        "print(\"test_x shape:\", test_x.shape)"
      ]
    },
    {
      "cell_type": "markdown",
      "metadata": {
        "id": "T-MpHIZnSycz",
        "nteract": {
          "transient": {
            "deleting": false
          }
        }
      },
      "source": [
        "## Importing libraries"
      ]
    },
    {
      "cell_type": "code",
      "execution_count": null,
      "metadata": {
        "gather": {
          "logged": 1612280524529
        },
        "id": "1BdCvqTgSyc0"
      },
      "outputs": [],
      "source": [
        "import numpy as np\n",
        "from tensorflow import keras\n",
        "from tensorflow.keras import layers\n",
        "import tensorflow as tf"
      ]
    },
    {
      "cell_type": "markdown",
      "metadata": {
        "id": "fjFmr__4yZzk"
      },
      "source": [
        "### Define number of classes and input shape to be used by the model"
      ]
    },
    {
      "cell_type": "code",
      "execution_count": null,
      "metadata": {
        "id": "J9jDs8tMBLz5"
      },
      "outputs": [],
      "source": [
        "num_classes = 20\n",
        "input_shape = (56, 56, 3)"
      ]
    },
    {
      "cell_type": "markdown",
      "metadata": {
        "id": "k88Gau6ryqZR"
      },
      "source": [
        "### Convert ground-truth label data into catagorical (One-hot-encoding) data"
      ]
    },
    {
      "cell_type": "code",
      "execution_count": null,
      "metadata": {
        "id": "v8vu0uRLSeYM"
      },
      "outputs": [],
      "source": [
        "train_y = keras.utils.to_categorical(train_y, num_classes)\n",
        "validate_y = keras.utils.to_categorical(validate_y, num_classes)\n",
        "test_y = keras.utils.to_categorical(test_y, num_classes)"
      ]
    },
    {
      "cell_type": "markdown",
      "metadata": {
        "id": "AGu5wnBW0U5l"
      },
      "source": [
        "### Reshape image data so that it can be fed into the model\n",
        "Reshape from (Num_samples, colour_channels, height, width) to (Num_samples, height, width, colour_channels)"
      ]
    },
    {
      "cell_type": "code",
      "execution_count": null,
      "metadata": {
        "id": "zWlqufD-SfQl"
      },
      "outputs": [],
      "source": [
        "train_x = np.reshape(train_x, (45000, 28, 28, 3))\n",
        "validate_x = np.reshape(validate_x, (15000, 28, 28, 3))\n",
        "test_x = np.reshape(test_x, (10000, 28, 28, 3))\n",
        "\n",
        "print(\"train_x shape:\", train_x.shape)\n",
        "print(\"validate_x shape:\", validate_x.shape)\n",
        "print(\"test_x shape:\", test_x.shape)"
      ]
    },
    {
      "cell_type": "markdown",
      "metadata": {
        "id": "o_qapgAw1N7u"
      },
      "source": [
        "### Resize images\n",
        "Images resized because feeding larger images into the model provides better inference (in terms of improved accuracy, loss, recall, precision and f1 scores)"
      ]
    },
    {
      "cell_type": "code",
      "execution_count": null,
      "metadata": {
        "id": "4UZlDnZBJCz5"
      },
      "outputs": [],
      "source": [
        "train_x = tf.image.resize(train_x, (56, 56), preserve_aspect_ratio=True)\n",
        "validate_x = tf.image.resize(validate_x, (56, 56), preserve_aspect_ratio=True)\n",
        "test_x = tf.image.resize(test_x, (56, 56), preserve_aspect_ratio=True)\n",
        "\n",
        "# Print shape of newly resized image arrays\n",
        "print(\"train_x shape:\", train_x.shape)\n",
        "print(\"validate_x shape:\", validate_x.shape)\n",
        "print(\"test_x shape:\", test_x.shape)"
      ]
    },
    {
      "cell_type": "markdown",
      "metadata": {
        "id": "F0mC93US2o3I"
      },
      "source": [
        "### Define the model\n",
        "Model used is a prebuilt model which I have configured in the following way:\n",
        "- "
      ]
    },
    {
      "cell_type": "code",
      "execution_count": null,
      "metadata": {
        "id": "1yYSKgPjC1hF"
      },
      "outputs": [],
      "source": [
        "model = keras.applications.DenseNet201(\n",
        "    include_top=True,\n",
        "    weights=None,\n",
        "    input_tensor=None,\n",
        "    input_shape=input_shape,\n",
        "    pooling=\"max\",\n",
        "    classes=num_classes,\n",
        ")"
      ]
    },
    {
      "cell_type": "markdown",
      "metadata": {
        "id": "Ig2vDJDK5_ow"
      },
      "source": [
        "### Define callbacks\n",
        "I have made use of Keras' callback api to define callbacks which will stop training when:\n",
        "1. There is a plateau in the increase in validation accuracy gained between epochs (e.g., if there has been no increase in val_accuracy after 5 epochs (compared to the max val_accuracy seen in any epoch so far)\n",
        "2. There is a plateau in the decrease of validation loss between epochs (e.g., if there has been no decrease in val_loss after 5 epochs (compared to the min val_loss seen in any epoch so far)\n",
        "\n",
        "I have set `restore_best_weights = True`. This means that when the training 'early-stops', it will reset its weights back to the 'best' epoch seens so far.\n",
        "> Best, being defined here as either lowest val_loss or highest val_accuracy, depending upon which callback is triggered"
      ]
    },
    {
      "cell_type": "code",
      "execution_count": null,
      "metadata": {
        "id": "CVXsiMHEFTt6"
      },
      "outputs": [],
      "source": [
        "from keras import callbacks\n",
        "\n",
        "earlystopping_acc = callbacks.EarlyStopping(monitor =\"val_accuracy\", mode =\"max\", patience = 6, restore_best_weights = True)"
      ]
    },
    {
      "cell_type": "markdown",
      "metadata": {
        "id": "0h3ZhfnL4Guu"
      },
      "source": [
        "### Compile and train the model\n",
        "\n"
      ]
    },
    {
      "cell_type": "code",
      "execution_count": null,
      "metadata": {
        "id": "hSHhu82kKaHc"
      },
      "outputs": [],
      "source": [
        "# Batch size and epochs to be used when training the model\n",
        "batch_size = 100\n",
        "epochs = 25\n",
        "\n",
        "model.compile(loss=\"categorical_crossentropy\", optimizer=\"adam\", metrics=[\"accuracy\", \"Precision\", \"Recall\"])\n",
        "\n",
        "history = model.fit(train_x, train_y, batch_size=batch_size, epochs=epochs, validation_data=(validate_x, validate_y), callbacks = [earlystopping_acc])"
      ]
    },
    {
      "cell_type": "markdown",
      "metadata": {
        "id": "SygDrG7VtJxz"
      },
      "source": [
        "#### Save the trained model"
      ]
    },
    {
      "cell_type": "code",
      "execution_count": null,
      "metadata": {
        "id": "7RBwHYnGrizZ"
      },
      "outputs": [],
      "source": [
        "model.save(\"models/task-2/Task-2-model\")"
      ]
    },
    {
      "cell_type": "markdown",
      "metadata": {
        "id": "SWlISLmK4cY8"
      },
      "source": [
        "## Visualise the training and validation results"
      ]
    },
    {
      "cell_type": "markdown",
      "metadata": {
        "id": "OSk3oZNO4nU8"
      },
      "source": [
        "### Visualise comparison of loss in training data and in validation data for each epoch in training"
      ]
    },
    {
      "cell_type": "code",
      "execution_count": null,
      "metadata": {
        "gather": {
          "logged": 1611659614389
        },
        "id": "2tgFE-zCSyc8",
        "jupyter": {
          "outputs_hidden": false,
          "source_hidden": false
        },
        "nteract": {
          "transient": {
            "deleting": false
          }
        }
      },
      "outputs": [],
      "source": [
        "import matplotlib.pyplot as plt\n",
        "\n",
        "# Plot training and validation loss\n",
        "\n",
        "history_dict = history.history\n",
        "loss_values = history_dict['loss']\n",
        "val_loss_values = history_dict['val_loss']\n",
        "\n",
        "epochs = range(1, len(loss_values) + 1)\n",
        "\n",
        "plt.plot(epochs, loss_values, 'bo', label='Training loss') # blue dots\n",
        "plt.plot(epochs, val_loss_values, 'b', label='Validation loss') # blue line\n",
        "plt.xlabel('Epochs')\n",
        "plt.ylabel('Loss')\n",
        "plt.legend()\n",
        "\n",
        "plt.show()"
      ]
    },
    {
      "cell_type": "markdown",
      "metadata": {
        "id": "jzp9vLOs4uVP"
      },
      "source": [
        "### Visualise comparison of accuracy in training data and in validation data for each epoch in training"
      ]
    },
    {
      "cell_type": "code",
      "execution_count": null,
      "metadata": {
        "gather": {
          "logged": 1611659711261
        },
        "id": "CUoWAuYlSyc9",
        "jupyter": {
          "outputs_hidden": false,
          "source_hidden": false
        },
        "nteract": {
          "transient": {
            "deleting": false
          }
        }
      },
      "outputs": [],
      "source": [
        "# Plot training and validation accuracy\n",
        "\n",
        "plt.clf()\n",
        "acc = history_dict['accuracy']\n",
        "val_acc = history_dict['val_accuracy']\n",
        "\n",
        "plt.plot(epochs, acc, 'bo', label='Training acc')\n",
        "plt.plot(epochs, val_acc, 'b', label='Validation acc')\n",
        "plt.title('Training and validation accuracy')\n",
        "plt.xlabel('Epochs')\n",
        "plt.ylabel('Accuracy')\n",
        "plt.legend()\n",
        "\n",
        "plt.show()"
      ]
    },
    {
      "cell_type": "markdown",
      "metadata": {
        "id": "j2ui0Nja4Mxh"
      },
      "source": [
        "### Evaluate the model using the data saved for testing"
      ]
    },
    {
      "cell_type": "code",
      "execution_count": null,
      "metadata": {
        "id": "FnyUorMiYNOq"
      },
      "outputs": [],
      "source": [
        "print(\"Evaluate on test data\")\n",
        "results = model.evaluate(test_x, test_y)\n",
        "\n",
        "precision = results[2]\n",
        "recall = results[3]\n",
        "\n",
        "f1 = 2 * ((precision * recall) / (precision + recall))\n",
        "\n",
        "print(\"Evaluate on test data\")\n",
        "print(\"Test loss:\", results[0])\n",
        "print(\"Test accuracy\", results[1])\n",
        "print(\"Test precision\", results[2])\n",
        "print(\"Test recall\", results[3])\n",
        "print(\"Test F1 score\", f1)"
      ]
    },
    {
      "cell_type": "markdown",
      "metadata": {
        "id": "uEMq6lWu45Ob"
      },
      "source": [
        "### Visualise results in a confusion matrix\n",
        "Matrix plots predictions from test data, against ground truth labels"
      ]
    },
    {
      "cell_type": "code",
      "execution_count": null,
      "metadata": {
        "collapsed": true,
        "gather": {
          "logged": 1611660033738
        },
        "id": "KsBkT9VSSyc9",
        "jupyter": {
          "outputs_hidden": false,
          "source_hidden": false
        },
        "nteract": {
          "transient": {
            "deleting": false
          }
        }
      },
      "outputs": [],
      "source": [
        "import sklearn.metrics as metrics\n",
        "\n",
        "# Function to plot the confusion matrix:\n",
        "def plot_confusion_matrix(gt, pred, classes=0, normalize=False, title='Confusion Matrix', cmap=plt.cm.Blues):\n",
        "\n",
        "    cm = metrics.confusion_matrix(gt, pred)\n",
        "    np.set_printoptions(precision=2)\n",
        "\n",
        "    if normalize:\n",
        "        cm = cm.astype('float') / cm.sum(axis=1)[:, np.newaxis]\n",
        "\n",
        "    plt.imshow(cm, interpolation='nearest', cmap=cmap)\n",
        "    plt.title(title)\n",
        "    plt.colorbar()\n",
        "    tick_marks = np.arange(len(classes))\n",
        "\n",
        "    plt.xticks(tick_marks, fontsize=7)\n",
        "    plt.yticks(tick_marks, fontsize=7)\n",
        "\n",
        "    plt.grid(True)\n",
        "\n",
        "    plt.ylabel('Ground Truth')\n",
        "    plt.xlabel('Predictions')\n",
        "    plt.tight_layout()\n",
        "    plt.savefig(f\"cm.pdf\", bbox_inches='tight')\n",
        "    plt.show()\n",
        "    plt.close()\n",
        "\n",
        "\n",
        "y_pred = model.predict(test_x)\n",
        "# plot the confusion matrix\n",
        "plot_confusion_matrix(np.argmax(test_y, axis=1), np.argmax(y_pred, axis=1), [0, 1, 2, 3, 4, 5, 6, 7, 8, 9, 10, 11, 12, 13, 14, 15, 16, 17, 18, 19])"
      ]
    },
    {
      "cell_type": "code",
      "execution_count": null,
      "metadata": {
        "id": "UP8Wd7hE5KU4"
      },
      "outputs": [],
      "source": [
        "import sklearn.metrics as metrics\n",
        "import matplotlib.pyplot as plt"
      ]
    },
    {
      "cell_type": "markdown",
      "metadata": {
        "id": "N9EJWHn6B9T3"
      },
      "source": [
        "# Report"
      ]
    },
    {
      "cell_type": "markdown",
      "metadata": {
        "id": "JFvkQOj-76Dy"
      },
      "source": [
        "# Creating a Convolutional Neural Network Classifier for the addNIST Dataset\n",
        "## Introduction\n",
        "The aim of this report is to examine the effectiveness of using a pre-built model from Keras' in-built library of models as a classifier for the addNIST dataset.\n",
        "\n",
        "## Background\n",
        "The addNISt dataset is a dataset comprising of three 'hand-written' digits from the MNIST library, overlayed on top of each other, separated by the three RGB colour channels (Red, Green, Blue).\n",
        "\n",
        "## The model\n",
        "For this experiment, the DenseNet201 network has been selected as the model to use for classification. This model is used un-trained so that we can define the number of prediction classes and the input image shape.\n",
        "\n",
        "Two other networks were tested:\n",
        "DenseNet169\n",
        "ResNet152V2\n",
        "However, DenseNet201 was found to have the best network out of the three and was therefore used for this experiment.\n",
        "\n",
        "## Data preparation\n",
        "For ground-truth labels, the labels have been formatted into categorical, One-Hot-Encoding format.\n",
        "\n",
        "The images in the addNIST dataset have been resized from 28 x 28 pixels to 56 x 56 pixels. This has been done for three reasons:\n",
        "1. It satisfies DenseNet201's minimum image input size of 32 x 32 pixels\n",
        "\n",
        "2. Higher image sizes provided better classification accuracy results when passed to the model\n",
        "\n",
        "3. This is the largest image size that could be handled by the hardware infrastructure used to run this notebook on (Google Colaboratory's free-level GPU runtime and a local runtime utilising an Nvidia GeForce RTX 3070)\n",
        "\n",
        "## Training\n",
        "The model has been trained using the 'train' addNIST data provided and validated using the 'validate' addNIST data.\n",
        "\n",
        "The validation accuracy and validation loss values seem to 'bounce' during training. This may suggest overfitting of training data, which can be observed in Figure 2 and Figure 3. In an attempt to reduce any overfitting, batch size has been reduced to 100 samples.\n",
        "\n",
        "Keras' Callbacks API has been used to implement \"early stopping\", which will stop training if there is a plateau in the increase of validation accuracy score. When early stopping is invoked, the weights of the best epoch are reset on the model. This, to some extent, automates finding the optimum number of epochs. The number of epochs has been explicitly set at 25; this has been done to allow appropriate 'room' for early stopping to be invoked before the last epoch, to allow selection of the 'best' epoch, which commonly occurs between epoch 14 and 19.\n",
        "\n",
        "![image.png](data:image/png;base64,iVBORw0KGgoAAAANSUhEUgAAAY4AAAEQCAYAAACnaJNPAAAgAElEQVR4nO3de1xUZf4H8M8IyiVA5SoyKrqUF+QiF8VMTE1LaxEvmUQhkaHm3Ta31ra030+zX9bLXM2WrVUzVjRdL5Va24XMS2uoiEkWmSCQmlAiKuoIz++PRwaQ4TK3cwbm8369eA2cOZfvHOY1nznnPM9zNDExMQJERETN1EbtAoiIqGVhcBARkVEYHEREZBTH2n8cPHhQrTqIiMgGDRw4sN40HnEQEZFRGBxERGQUBgcRERmFwUFEREZhcBARkVEcm57Fdnl7eyMwMFDtMoiIWpSCggJcuHDB5OVbdHAEBgYiKytL7TKIiFqUqKgos5bnqSoiIjIKg4OIiIzC4CAiIqO06GscRKQ8nU6HoqIiXLt2Te1SqAnOzs7QarVo27atRdfL4CAioxQVFcHd3R2BgYHQaDRql0MNEEKgtLQURUVF6N69u0XXzVNVRGSUa9euwcvLi6Fh4zQaDby8vKxyZMjgICKjMTRaBmv9n+wyOI4fBxYuBH7/Xe1KiIhaHrsMjlOngKVLgZ9/VrsSIjJWaWkpwsPDER4ejk6dOiEgIED/940bNxpdNisrC7Nnz25yG3fffbdFas3MzMRDDz1kkXXZErsMDq1WPhYVqVsHkT1ITwcCA4E2beRjerp56/Py8kJ2djays7Mxbdo0zJs3T/93u3btcPPmzQaXjYqKwsqVK5vcxoEDB8wrspWzy+Do0kU+MjiIrCs9HUhNBQoKACHkY2qq+eFxu+TkZEybNg0DBgzAggULcOjQIQwcOBD9+vXD3XffjR9++AFA3SOARYsWISUlBffeey969OhRJ1Dc3Nz08997772YMGECevXqhcTERAghAAC7du1Cr169EBkZidmzZzd5ZPHbb78hPj4eoaGhiImJQU5ODgDgq6++0h8x9evXD+Xl5Th79ixiY2MRHh6Ovn374uuvv7bsDjOTXTbH9fEB2rYFCgvVroSodVu4ELh6te60q1fl9MREy26rqKgIBw4cgIODAy5duoSvv/4ajo6O+Oyzz/CXv/wFW7durbfMyZMn8eWXX6K8vBw9e/bE9OnT6/V5OHr0KE6cOIHOnTtj0KBB2L9/P6KiojB16lTs3bsX3bt3R0JCQpP1vfTSS+jXrx+2b9+OL774AklJScjOzsby5cuxevVqDBo0CJcvX4azszPS0tJw//33Y+HChaisrMTV23eiyuwyONq0AQICeMRBZG1nzhg33RwPP/wwHBwcAABlZWWYPHky8vLyoNFooNPpDC7z4IMPwsnJCU5OTvD19cX58+ehrT6XfUv//v3108LDw5Gfnw83Nzf06NFD3z8iISEBaWlpjda3b98+fXgNGzYMpaWluHTpEgYNGoT58+cjMTER48aNg1arRXR0NFJSUqDT6RAfH4/w8HCz9o2l2eWpKkBe52BwEFlX167GTTfHHXfcof/9r3/9K4YOHYrvvvsOH374YYN9GZycnPS/Ozg4GLw+0px5zPHcc8/hnXfeQUVFBQYNGoSTJ08iNjYWe/fuRUBAAJKTk/Hee+9ZdJvmYnAQkdUsWQK4utad5uoqp1tTWVkZAgICAADr1q2z+Pp79uyJn3/+Gfn5+QCATZs2NbnM4MGDkX7r4k5mZia8vb3h4eGBU6dOISQkBH/+858RHR2NkydPoqCgAH5+fnjqqacwZcoUHDlyxOKvwRx2Hxy3rnMRkRUkJgJpaUC3boBGIx/T0ix/feN2CxYswPPPP49+/fpZ/AgBAFxcXPDWW2/hgQceQGRkJNzd3dG+fftGl1m0aBEOHz6M0NBQPPfcc1i/fj0AYMWKFejbty9CQ0PRtm1bjBo1CpmZmQgLC0O/fv2wadMmzJkzx+KvwRyamJgY/UfnwYMH1azFaFFRUSbfyGnlSmDOHODCBcDb28KFEbVi33//PXr37q12Gaq7fPky3NzcIITAjBkzcOedd2LevHlql1WPof+XMZ+dAwcOrDfNro84AJ6uIiLT/OMf/0B4eDiCg4NRVlaGqVOnql2SYuyyVRVQExyFhYCNNVggohZg3rx5NnmEoQQecfCIg4jIKHYbHH5+gIMDg4OIyFh2GxwODkDnzgwOIiJj2W1wAHLMKgYHEZFx7Do42AmQqOUZOnQoPvnkkzrTVqxYgenTpze4zL333qtvfjp69GhcvHix3jyLFi3C8uXLG9329u3bkZubq//7xRdfxGeffWZM+Qa1tOHX7T44CgvZCZCoJUlISEBGRkadaRkZGc0aaBCQo9p26NDBpG3fHhwvv/wy7rvvPpPW1ZIpEhyFhYUYOnQo+vTpg+DgYLz55pv15snMzET79u31wwu//PLLVq9LqwUqKngnQKKWZMKECfj444/1N23Kz8/HL7/8gsGDB2P69OmIiopCcHAwXnrpJYPLBwYGoqSkBACwZMkS3HXXXbjnnnv0Q68Dso9GdHQ0wsLCMH78eFy9ehUHDhzAzp078eyzzyI8PBynTp1CcnIytmzZAgD4/PPP0a9fP4SEhCAlJQXXr1/Xb++ll15CREQEQkJCcPLkyUZfX0sYfl2RfhyOjo54/fXXERERgfLyckRGRmLEiBHo06dPnfkGDx6Mjz76SImSANRtkuvpqdhmiVqNuXOB7GzLrjM8HFixouHnPT090b9/f+zevRtjxoxBRkYGJk6cCI1GgyVLlsDT0xOVlZUYPnw4cnJyEBoaanA9hw8fRkZGBrKzs3Hz5k1EREQgMjISADBu3Dg89dRTAIAXXngB7777LmbNmoW4uDg89NBDmDBhQp11Xbt2DcnJyfj8889x1113ISkpCWvWrMHcuXMBAN7e3jhy5AjeeustLF++HO+8806Dr68lDL+uyBGHv78/IiIiAADu7u7o3bs3iouLldh0o9iXg6hlqn26qvZpqs2bNyMiIgL9+vXDiRMn6pxWut3XX3+NsWPHwtXVFR4eHoiLi9M/991332Hw4MEICQlBeno6Tpw40Wg9P/zwA7p374677roLADB58mTs3btX//y4ceMAAJGRkfqBERuyb98+PP744wAMD7++cuVKXLx4EY6OjoiOjsbatWuxaNEiHD9+HO7u7o2u21IU7zmen5+Po0ePYsCAAfWeO3jwIMLCwtC5c2csX74cwcHB9eZJS0vTj3t/4cIFs2rhnQCJzNPYkYE1jRkzBvPmzcORI0dw9epVREZG4vTp01i+fDm+/fZbdOzYEcnJyQ0Op96U5ORkbN++HWFhYVi3bh0yMzPNqrd6aHZzhmV/7rnn8OCDD2LXrl0YNGgQPvnkE/3w6x9//DGSk5Mxf/58JCUlmVVrcyh6cfzy5csYP348VqxYAQ8PjzrPRUREoKCgAMeOHcOsWbMQHx9vcB2pqanIyspCVlYWfHx8zKqnUyd5UycGB1HL4ubmhqFDhyIlJUV/tHHp0iXccccdaN++Pc6fP4/du3c3uo7Y2Fhs374dFRUVKC8vx4cffqh/rry8HP7+/tDpdPqh0AF5xqS8vLzeunr27In8/Hz89NNPAIANGzZgyJAhJr22ljD8umLBodPpMH78eP1drm7n4eGhv8/v6NGjodPp9BewrMXREfD35y1kiVqihIQEHDt2TB8c1cOQ9+rVC48++igGDRrU6PIRERF45JFHEBYWhlGjRiE6Olr/3P/8z/9gwIABGDRoEHr16qWfPmnSJLz22mvo168fTp06pZ/u7OyMtWvX4uGHH0ZISAjatGmDadOmmfS6WsLw64oMqy6EwOTJk+Hp6YkVDRzbnjt3Dn5+ftBoNDh06BAmTJiAgoICaDSaBtdrzrDq1WJiAHd34D//MWs1RHaDw6q3LNYYVl2Raxz79+/Hhg0bEBISor937tKlS3Hm1o2Hp02bhi1btmDNmjVwdHSEi4sLMjIyGg0NS9FqgSauexERUS2KBMc999wD0UQvu5kzZ2LmzJlKlFOHVgvs2SM7ASqQU0RELZ5d9xwHZMuqK1eAS5fUroSo5WjqiyDZBmv9n+w+ONiXg8g4zs7OKC0tZXjYOCEESktL4ezsbPF12+0dAKvVvhOggW4jRHQbrVaLoqIis/tRkfU5OztDW/0hZ0EMDh5xEBmlbdu26N69u9plkIrs/lSVv7+8KM7gICJqHrsPjnbt5G1kGRxERM1j98EB8E6ARETGYHCAdwIkIjIGgwMMDiIiYzA4IIOjrAwwMOglERHdhsEBNsklIjIGgwMMDiIiYzA4wOAgIjIGgwNAQIB8ZHAQETWNwQHAyQnw9WVwEBE1B4PjFq2Wt5AlImoOBsct7MtBRNQ8DI5bGBxERM3D4LhFqwV+/13eDZCIiBrG4LilSxf5WFysbh1ERLaOwXEL+3IQETUPg+OW2reQJSKihjE4bmEnQCKi5mFw3OLiAnh5MTiIiJrC4KiFTXKJiJrG4KiFt5AlImoag6MWHnEQETVNkeAoLCzE0KFD0adPHwQHB+PNN9+sN48QArNnz0ZQUBBCQ0Nx5MgRJUqrQ6sFSkqAigrFN01E1GIoEhyOjo54/fXXkZubi2+++QarV69Gbm5unXl2796NvLw85OXlIS0tDdOnT1eitDqqm+SyEyARUcMUCQ5/f39EREQAANzd3dG7d28U3/bpvGPHDiQlJUGj0SAmJgYXL17E2bNnLV5LejoQGAi0aSMf09NrnmMnQCKipil+jSM/Px9Hjx7FgAED6kwvLi5Gl+pxPwBotdp64QIAaWlpiIqKQlRUFC5cuGDUttPTgdRUoKAAEEI+pqbWhAeDg4ioaYoGx+XLlzF+/HisWLECHh4eJq0jNTUVWVlZyMrKgo+Pj1HLLlwIXL1ad9rVq3I6wOAgImoOxYJDp9Nh/PjxSExMxLhx4+o9HxAQgMJa430UFRUhoLo7t4WcOdP49DvuADp2ZHAQETVGkeAQQuDJJ59E7969MX/+fIPzxMXF4b333oMQAt988w3at28Pf39/i9bRtWvT09kkl4iocY5KbGT//v3YsGEDQkJCEB4eDgBYunQpztz6qj9t2jSMHj0au3btQlBQEFxdXbF27VqL17FkibymUft0laurnF6Nt5AlImqcIsFxzz33QAjR6DwajQarV6+2ah2JifJx4UJ5eqprVxka1dMBGRyHD1u1DCKiFk2R4LAliYl1g+J2Wi3w66/A9euAk5NydRERtRQccuQ21S2Cf/lF3TqIiGwVg+M2bJJLRNQ4BsdtGBxERI1jcNyGt5AlImocg+M27u6AhwePOIiIGsLgMICdAImIGsbgMIB3AiQiahiDwwAecRARNYzBYYBWC5w7B+h0aldCRGR7GBwGaLXyfh3sBEhEVB+DwwD25SAiahiDwwAGBxFRwxgcBlSPV8XgICKqj8FhgIcH4ObG4CAiMoTBYYBGwya5REQNYXA0gHcCJCIyjMHRAB5xEBEZxuBogFYLnD0L3LypdiVERLaFwdGALl2AqirZg5yIiGowOBrAvhxERIYxOBrA4CAiMozB0QAGBxGRYQyOBnTsCLi4sEkuEdHtGBwNYCdAIiLDGByN4J0AiYjqY3A0gkccRET1KRIcKSkp8PX1Rd++fQ0+n5mZifbt2yM8PBzh4eF4+eWXlSirSVqtvJlTZaXalRAR2Q5FgiM5ORl79uxpdJ7BgwcjOzsb2dnZePHFF5Uoq0larew5/uuvaldCRGQ7jA6OK1euoKqqCgDw448/YufOndA1cXPu2NhYeHp6mlahiqqb5LJlFRFRDaODIzY2FteuXUNxcTFGjhyJDRs2IDk52exCDh48iLCwMIwaNQonTpwwe32WwL4cRET1GR0cQgi4urri3//+N55++ml88MEHZn/QR0REoKCgAMeOHcOsWbMQHx/f4LxpaWmIiopCVFQULly4YNZ2m8LgICKqz6TgOHjwINLT0/Hggw8CACrNvHrs4eEBNzc3AMDo0aOh0+lQUlJicN7U1FRkZWUhKysLPj4+Zm23Kd7egJMTg4OIqDajg2PFihV45ZVXMHbsWAQHB+Pnn3/G0KFDzSri3LlzEEIAAA4dOoSqqip4eXmZtU5LYCdAIqL6HI1dYMiQIRgyZAgAoKqqCt7e3li5cmWjyyQkJCAzMxMlJSXQarVYvHix/oL6tGnTsGXLFqxZswaOjo5wcXFBRkYGNBqNCS/H8hgcRER1GR0cjz76KN5++204ODggOjoaly5dwpw5c/Dss882uMzGjRsbXefMmTMxc+ZMY0tRhFYL7N+vdhVERLbD6FNVubm58PDwwPbt2zFq1CicPn0aGzZssEZtNkGrBYqL5U2diIjIhODQ6XTQ6XTYvn074uLi0LZtW5s5rWQNWi2g0wFWbsBFRNRiGB0cU6dORWBgIK5cuYLY2FgUFBTAw8PDGrXZhC5d5COvcxARSUYHx+zZs1FcXIxdu3ZBo9GgW7du+PLLL61Rm01gXw4iorqMDo6ysjLMnz9f3wnvmWeewZUrV6xRm01gcBAR1WV0cKSkpMDd3R2bN2/G5s2b4eHhgSeeeMIatdkEHx+gbVsGBxFRNaOb4546dQpbt27V//3SSy8hPDzcokXZkjZtgIAADnRIRFTN6CMOFxcX7Nu3T//3/v374eLiYtGibA07ARIR1TD6iOPtt99GUlISysrKAAAdO3bE+vXrLV6YLenSBTh0SO0qiIhsg9FHHGFhYTh27BhycnKQk5ODo0eP4osvvrBGbTaj+ojj1nBaRER2zeQ7AHp4eOj7b7zxxhsWK8gWabXA9etAaanalRARqc8it44VrfyrOJvkEhHVsEhwtOYhRwDeQpaIqLZmXxx3d3c3GBBCCFRUVFi0KFvDIw4iohrNDo7y8nJr1mHT/PwAR0cGBxERYKFTVa2dgwPQuTODg4gIYHA0GzsBEhFJDI5mYnAQEUkMjmbSamWrqlbe8piIqEkMjmbSaoGKCuD339WuhIhIXQyOZuKdAImIJAZHM7EvBxGRxOBopq5d5WNurrp1EBGpjcHRTJ07AxERQEaG2pUQEamLwWGEpCTg8GHgxAm1KyEiUg+DwwgJCbIX+YYNaldCRKQeBocRfH2BBx4A0tOBykq1qyEiUgeDw0hJSbJlVWam2pUQEalDkeBISUmBr68v+vbta/B5IQRmz56NoKAghIaG4siRI0qUZZI//hHw8ADee0/tSoiI1KFIcCQnJ2PPnj0NPr97927k5eUhLy8PaWlpmD59uhJlmcTFBZg4Edi6FbhyRe1qiIiUp0hwxMbGwtPTs8Hnd+zYgaSkJGg0GsTExODixYs4e/asEqWZJClJhsa2bWpXQkSkPJu4xlFcXIwu1WN6ANBqtSguLjY4b1paGqKiohAVFYULFy4oVWIdgwYBgYE8XUVE9skmgsMYqampyMrKQlZWFnx8fBTbbnq6DIs2bYAePYDwcOCzz4AG8o2IqNWyieAICAhAYWGh/u+ioiIEBASoWFFd6elAaipQUCCHVS8oAPbskb//619qV0dEpCybCI64uDi89957EELgm2++Qfv27eHv7692WXoLFwJXr9addu0a0K4dsH4979FBRPbFUYmNJCQkIDMzEyUlJdBqtVi8eDF0Oh0AYNq0aRg9ejR27dqFoKAguLq6Yu3atUqU1WxnzhiefuOGHH4kOxvo10/ZmoiI1KJIcGzcuLHR5zUaDVavXq1EKSbp2lWenrqdVgucPy+HIGFwEJG9sIlTVbZuyRLA1bXuNFdXYNky4KGH5DWQmzfVqY2ISGkMjmZITATS0oBu3QCNRj6mpcnpSUnAr78Cn36qdpVERMpgcDRTYiKQnw9UVcnHxEQ5ffRowNOTI+YSkf1gcJipXTtg0iRg+3agrEztaoiIrI/BYQFJSbJ57pYtaldCRGR9DA4L6N8fuOsunq4iIvvA4LAAjUYedXz1lbz+QUTUmjE4LKT6Yvn776tbBxGRtTE4LCQwEBgyRJ6u4hAkRNSaMTgsKCkJ+PFH4NAhtSshIrIeBocFTZgAODvzPh1E1LoxOCzIwwOIjwcyMuQAiERErRGDw8KSkoDffgN27VK7EiIi62BwWNiIEYCfH09XEVHrxeCwMEdH4NFHgY8+kkceREStDYPDCpKSAJ0O2LRJ7UqIiCyPwWEFYWFA3748XUVErRODwwqqhyD55hsgL0/taoiILIvBYSWJiUCbNhz4kIhaHwaHlXTuDAwfLoOjqkrtaoiILIfBYUVJSXK03P371a6EiMhyGBxWNHYscMcdwN//rnYlRESWw+CwojvuAJ5+GvjXv4Bjx9SuhojIMhgcVvb880CHDsCzz6pdCRGRZTA4rKxjR+CvfwX+8x/gk0/UroaIyHwMDgU8/TTQvbs86qisVLsaIiLzMDgU4OQEvPIKcPw4+3UQUcunWHDs2bMHPXv2RFBQEJYtW1bv+XXr1sHHxwfh4eEIDw/HO++8o1Rpipg4EejfH3jhBeDqVbWrISIynSLBUVlZiRkzZmD37t3Izc3Fxo0bkZubW2++Rx55BNnZ2cjOzsaUKVOUKE0xGg2wfDlQXAysWKF2NUREplMkOA4dOoSgoCD06NED7dq1w6RJk7Bjxw4lNm1TBg8GxowBli0Dfv1V7WqIiEyjSHAUFxejS5cu+r+1Wi2Ki4vrzbd161aEhoZiwoQJKCwsNLiutLQ0REVFISoqChcuXLBazdaybJk8VfXyy2pXQkRkGpu5OP7HP/4R+fn5yMnJwYgRIzB58mSD86WmpiIrKwtZWVnw8fFRuErjpKcDgYFysMPAQPl3r17AU0/J3uQ//qh2hURExlMkOAICAuocQRQVFSEgIKDOPF5eXnBycgIATJkyBYcPH1aiNKtJTwdSU4GCAkAI+ZiaKqcvWgQ4O8vOgURELY0iwREdHY28vDycPn0aN27cQEZGBuLi4urMc/bsWf3vO3fuRO/evZUozWoWLqzfeurqVTndzw9YsAD49785ACIRtTyKBIejoyNWrVqF+++/H71798bEiRMRHByMF198ETt37gQArFy5EsHBwQgLC8PKlSuxbt06JUqzmjNnGp8+fz7g7y87BQqhXF1ERObSxMTE6D+2Dh48qGYtRouKikJWVpbaZRgUGChPT92uWzc51DoAvPsuMGUK8MEHwIQJytZHRPbLmM/OgQMH1ptmMxfHW5slSwBX17rTXF3l9GrJyUBwMPDcc8CNG8rWp7TDh4FDh9SuomE3b6pdAVHLweCwksREIC1NHmFoNPIxLU1Or+bgAPzf/wGnTrXee3aUlMijqqgo2Y8lM1Ptiur76ScgIABISeFYYkTNweCwosREeVqqqko+1g6NaqNGAcOGAYsXA2VlytdoLVVVwD/+AfTsCaxfL6/p/OEPsgNkdrba1dW4fFnecOvSJWDtWmDyZB59EDWFwaEyjQZ47TWgtFR2DmwNjh4F7r5bNj8ODpZ/v/66HFbew0OG5c8/q12lbJTw5JNAbi6wc6c8jZieDjz+OMODqDEMDhsQEQE89pgcw6qBDvMtQlkZMHu2PC11+jTw3nvAV18BffvK57t0keFx4wZw//3qD7uyfDmwebMcuXjECOAvf5HhnZEhjw51OnXrI7JVDA4b8b//K78Bv/CC2pUYTwj5Tb1nT2DVKmD6dOCHH+Q3d42m7rx9+gAffSQHexw1CigvV6fmzz6TjRIefrju3Rn//Gd5BLh5M5CQwPAgMoTBYSO6dQPmzJH367ClawBN+f57eY3msceArl2Bb7+V4dGhQ8PLDBwomyAfOyavL1y/rly9gLzeNGkS0Ls38M9/1g+3P/0JeOMNYOtW4JFHWn+LNyJjMThsyPPPy1vNLligdiVNu3JFfmMPDZUB8PbbwMGDQGRk85Z/8EHZj+Xzz4GkJHkxXQkVFcC4cfIaxrZtgJub4fnmzZOnDrdtk/dSYXgQ1XBUuwCq0aEDMHo08P77NU14lywx3BpLSULI6xdnzwLnzgF5ebKuM2eAJ54AXn0VMGW8ycmT5XWOBQsAX19g5cr63/4tSQhg6lR5RPfhh8CddzY+/5w5ssn0rFmyg+YHH8i7ORLZOwaHDUlPl6dHqhUUyFY/N2/KD1lrOH9eXpA/d64mGG5/PHcOuHat7nIhIcDXXwP33GPe9v/0J7n+N94AOnWSY3lZy6pV8lTg4sXyiKc5Zs6U4fH008D48cCWLXKASmNdvAhs3AisWwf88otc7/TpspUZUUvD4LAhCxfKUym1Xb8uv9V/8gkQHy8vKLu7m76NggLZCe+rr+Tj6dP15/H0lONodeokg6FTJ/lTPc3fH7jrLvmBaq7q5si//iobBvj5yQ6DlrZ3rzz9FBdnfAOE6dPla506VV6T2bateeFRWSlPxa1dK5e5fl22MOvZU57mW7ZMtkKbM0fuc6KWgsFhQxoaGFEI4D//kd9Y27UD7rtPfoD98Y/yg7YhQsgLwbWDonr8LE9PIDZWnob5wx9qwsHPT/nTMW3ayIvUJSXyw9nHR3YUtJSiItl66g9/kE2E25hwZS81VS6Xmipr274dcHExPO9PP8kji/Xr5bY7dpRh+MQTsum1RiMbESxdKm/o9cYbMpzmz5f/g5bm6FH5PouPt+6pRrIhMTExovqnpYmMjFS7BIvq1k0I+XFf96dbNyFu3hTiq6+EmDdPiMBAOV2jEeKee4RYvlyIU6eEqKoS4qefhHjnHSEef1yILl1q1uHtLcT48UKsXClETo4QlZVqv9r6Ll8Won9/IZydhdi71zLrvHZNrtPNTYjcXPPX989/yv1+331CXLlSM728XD43eLDc323aCPHAA0Js2iRERUXD68vJESIhQc7v7CzEzJlCFBSYX6cSdDohFi8WwsFBvubHH5f/Q7J9xnx21s6I6h8Ghw15/30hXF3rhoarq5xeW1WVENnZQixaJERYmOGw8fUV4uGHhVi1SojvvrPNoDDkwgUhevYUon17+aFqrilT5P7497/NX1e1detkeAwbJsRnnwmRnCzEHXfI7dx5pxBLlwpRVP+x7CcAAA5tSURBVGTcOn/8UYiUFCEcHeVPSoqcZqyqKiFKSoT49lshtm+Xv1tDXp4QMTHyNScmCvHSS3Kf9O0rxMmT1tkmWQ6Do5V5/315hKHRyMfbQ8PQ/M7OdUPD2VmIDRuUqdca8vOFCAgQwt9fiNOnTV/P3/8u98df/mK52qpt2CCPEgB5NPPkk0Ls2yc/uM1RUCCPOpyc5PoTEoQ4frzuPFevyqOnjz4S4m9/E2L+fCHi4+WXCHf3uu8FDw8ZZLWPjsxRVSVEWpoMyg4dhMjIqHnu00/lka27uxAffGCZ7ZF1MDjsXGOnt5pibEiZuowpjh+XH0z+/kI89pgQr70mP5jOn2/e8gcOCNG2rTxddPOmdWr85BMZINY4PXP2rBDPPltzJDNsmBB33y33x+3/axcXIfr0EeLBB4WYNUuIN96QRxtffCFEXJycp3Nn+YGv05le0/nzNesbNkyIwsL685w5U3MkMneuEDdumL49sh5zg4M3cmrh2rQxfAdBjabxTnXV90SvfXtbV9f6Q7+bu4w5Dh2SF4+zs+UQJdU6dQLCwmTnw7Aw+dOzJ9C2rXz+3DnZEdHZGcjKkhenW6rSUtm/ZcsW2dele3egR4+6j35+jV+U3rdPDqVy4IDcT6+8YvyF7A8/lE3DL12Sy8+Z03Ajgxs35DAuK1fKwS43b5bD1qvh2jXZKMTNDRgwoOY9Yu/MvZETg6OFa86dBi21nKnbsoSSEiAnR/ZSr/7Jza3p0d2unRyJNywM+O47+dzBgzJcSH652LlTjk7w/fdATIzsuBkb2/hyly8DzzwjvxyEhsovD9WDVjZl0ybZmszFRbYIHD7c/NfRHNeuyebrH3wgX3P1eGhubsC998pWiSNGyCFn7LUVGO8AaOeac6dBQ5q6J7qllgHkh01goPyGGhgo/zaWt7ccE2vePNnU9ehR+aF2/LjsaT9njmzGu22bvNvg1auyz4Yp22qNNBrZjDgnB3jnHdnpc8gQ4KGH5D405L//Bfr1k/dVefZZeQTY3NAA5Dhf334r/y8jR8r3pLWGlrl2DdixQx75+vrKI6rdu+VwMbt3y461jz0GnDwJzJ0rv2RotbJj7fvvy86uZARe42j5TLnuYMq1EVOWaW5LMUu8JiW31dJdvSrEq6/K60gajRCTJ9c0A75xQ7aScnAQomtXITIzzdtWebkQjz4q/x+jRwtRWmp+/ULIZs7btsl1VzcK8PSULek++aTh6yunTwvxj38IMXGiEF5eNe+Vvn3ldZmPP5Y1N6SqSq778mUhfvtNiHPn5LWdvDwhfvhB/n7hgmyQYKutGXlxnExiyoesKcsoGTa2Hmy2qLRUXoR3cpI/c+bIfi+AbJRw8aJltlNVJcRbb8kGC926yebCpqgdFm5uzQ+LhlRWCnH4sAzR++6T+wCQdQYFyVr9/WXAuLvL5zUaw++zhn6cnYXo2FG2FAwKEiI0VIgBA4QYOlQG6bhxQowZI8SoUUIMHy5EbKxsYBARIURIiGye3r27XN7XV4a9q6sQL7xg2j4UghfH7f4ahznS0+UwJ2fOyCHRmzOgorHLmHLx3tRrKUptS8lGAqb8j0xZrrAQWLRIngZs316OdjxxouVeR7VDh+RAnqWl8m8vLzkCQu/e8lpE7Z9Ll+pPKyuTY7d5ecnREx5+GBg61HIXvSsqgP375UgNBQVyFIV27eRP7d8N/d2unXwPXrsm3xsVFc17vHYNcHSUy7dtW7Ou2r8bem7YMLkvTWHuNQ4ecZBVmXIU0NA3Oo3GNrZlahNoU/romHo0ZOpynTvXvBZrNM9+/33ZfLihfe7uLr9Z9+olRHS0bPY7Zow8+pk+XYjnnjPtyILq4qkqsmlKnd5SclumhI2S+0GpU3aWfE1dujTdedKW+x21tFOXDA6yeUp901ZqW0o1LDD1yEupoyglX5NSwVa9nK2+X01d5nYMDmqVlPwGp8QHhZKnxJT6QLf116TUkZeSR8jmhFRtDA4iFRgbNkq3+LLVoyhTX5MtB5uS1+TMGWKoNnODQ7EOgHv27EHPnj0RFBSEZcuW1Xv++vXreOSRRxAUFIQBAwYg39pdkYnMkJgoW11VVcnHplo6mdJRMzFRttTq1q3mVsLNabllynKm1Kfka+ra1bjppi5jSidXU7Zj6rZM7YRrcUoccdy8eVP06NFDnDp1Sly/fl2EhoaKEydO1Jln9erVYurUqUIIITZu3CgmTpzY5Hp5xEEtia1fQLX1i8/sd2Q7RxyKBMeBAwfEyJEj9X8vXbpULF26tM48I0eOFAcOHBBCCKHT6YSXl5eoaqKZBYODyH4oEWy2PtKBrVzjUOTWscXFxejSpYv+b61Wi//+978NzuPo6Ij27dujtLQU3t7edeZLS0tDWloaAODChQtWrpyIbEViovEdLI1dpnpeYztdmlqbsdsytT5La3H3HE9NTUVqaioA2fuRiMiSTAkBJbelZH0NUeTieEBAAAoLC/V/FxUVIeC2Afprz3Pz5k2UlZXBy8tLifKIiMgIigRHdHQ08vLycPr0ady4cQMZGRmIi4urM09cXBzWr18PANiyZQuGDRsGjb0Olk9EZMMUOVXl6OiIVatW4f7770dlZSVSUlIQHByMF198EVFRUYiLi8OTTz6Jxx9/HEFBQfD09ERGRoYSpRERkZEUu8YxevRojL5tKMeXX35Z/7uzszM++OADpcohIiIT8Q6ARERklBbXqqq2goICREVFoaSkpF6zXXvE/VCD+0LifpC4H6Tq/VBg6CY0RmjRwVHdj4M3dJK4H2pwX0jcDxL3g2Sp/cBTVUREZBQGBxERGcVBq9Uuqv5jypQpatZilsjISLVLsAncDzW4LyTuB4n7QTJ2P7z77rv1pmliYmJE9R8HDx40vyoiImo1Bg4cWG8aT1UREZFRGBxERGSUFh8cTd1Z0F4EBgYiJCQE4eHhdjVqcEpKCnx9fdG3b1/9tN9++w0jRozAnXfeiREjRuD3339XsUJlGNoPixYtQkBAAMLDwxEeHo5du3apWKEyCgsLMXToUPTp0wfBwcF48803Adjfe6Kh/WCp90SLDo7KykrMmDEDu3fvRm5uLjZu3Ijc3Fy1y1LNl19+iezsbLtqr56cnIw9e/bUmbZs2TIMHz4ceXl5GD58uF18oTC0HwBg3rx5yM7ORnZ2dr0hf1ojR0dHvP7668jNzcU333yD1atXIzc31+7eEw3tB8Ay74kWHRyHDh1CUFAQevTogXbt2mHSpEnYsWOH2mWRgmJjY+Hp6Vln2o4dOzB58mQAwOTJk7F9+3Y1SlOUof1gj/z9/REREQEAcHd3R+/evVFcXGx374mG9oOltOjgMHRnQUvunJZEo9Fg5MiRiIyM1N8h0V6dP38e/v7+AIBOnTrh/PnzKleknlWrViE0NBQpKSmt/vTM7fLz83H06FEMGDDArt8TtfcDYJn3RIsODqqxb98+HDlyBLt378bq1auxd+9etUuyCRqNxm7v6zJ9+nScOnUK2dnZ8Pf3xzPPPKN2SYq5fPkyxo8fjxUrVsDDw6POc/b0nrh9P1jqPdGig6M5dxa0F9Wv29fXF2PHjsWhQ4dUrkg9fn5+OHv2LADg7Nmz8PX1Vbkidfj5+cHBwQFt2rTBU089ZTfvCZ1Oh/HjxyMxMRHjxo0DYJ/viYb2gyXeEy06OJpzZ0F7cOXKFZSXl+t///TTT+u0rrE3te8muX79eowZM0blitRR/UEJANu2bbOL94QQAk8++SR69+6N+fPn66fb23uiof1gqfdEi+85vmvXLsydO1d/Z8GFCxeqXZLifv75Z4wdOxaAvF/7o48+ajf7ISEhAZmZmSgpKYGfnx8WL16M+Ph4TJw4EWfOnEG3bt2wefPmVn/h2NB+yMzMRHZ2NjQaDQIDA/H3v/9df56/tdq3bx8GDx6MkJAQtGkjvxcvXboUAwYMsKv3REP7YePGjUa/Jwz1HG/xwUFERNbDIUeIiMhsDA4iIjIKg4OIiIzC4CAiIqMwOIiIyCgMDiIDHBwc9COIhoeHW3RQvPz8fLvoU0Gtl6PaBRDZIhcXF2RnZ6tdBpFN4hEHkRECAwOxYMEChISEoH///vjpp58AyKOIYcOGITQ0FMOHD8eZM2cAyAEXx44di7CwMISFheHAgQMA5C0BnnrqKQQHB2PkyJGoqKgAAKxcuRJ9+vRBaGgoJk2apM6LJGoCg4PIgIqKijqnqjZt2qR/rn379jh+/DhmzpyJuXPnAgBmzZqFyZMnIycnB4mJiZg9ezYAYPbs2RgyZAiOHTuGI0eOIDg4GACQl5eHGTNm4MSJE+jQoQO2bt0KQN5L5OjRo8jJycHbb7+t8Ksmah72HCcywM3NDZcvX643PTAwEF988QV69OgBnU6HTp06obS0FN7e3jh79izatm0LnU4Hf39/lJSUwMfHB0VFRXByctKvIz8/HyNGjEBeXh4A4NVXX4VOp8MLL7yABx54AG5uboiPj0d8fDzc3NwUe81EhrDnOJEF1B6S29ThuWsHiYODA27evAkA+PjjjzFjxgwcOXIE0dHR+ulEtoTBQWSk6tNWmzZt0n8bu/vuu5GRkQEASE9Px+DBgwEAw4cPx5o1awDI6xplZWUNrreqqkp/r+hXX30VZWVlBo96iNTGVlVEBlRf46j2wAMP6Jvk/v777wgNDYWTkxM2btwIAPjb3/6GJ554Aq+99hp8fHywdu1aAMCbb76J1NRUvPvuu3BwcMCaNWsaHI20srISjz32GMrKyiCEwOzZs9GhQwcrv1Ii4/EaB5ERAgMDkZWVBW9vb7VLIVIEr3EQEZHZeKqKyAj5+flql0CkOh5xEBGRURgcRERkFAYHEREZhcFBRERGYXAQEZFR6vTjICIiagqPOIiIyCgMDiIiMgqDg4iIjMLgICIiozA4iIjIKP8PyfJ3ZsRN7hsAAAAASUVORK5CYII=)\n",
        "\n",
        "_Figure 2_\n",
        "\n",
        "![image.png](data:image/png;base64,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)\n",
        "\n",
        "_Figure 3_\n",
        "\n",
        "\n",
        "\n",
        "## Results\n",
        "The model provided the following results on the last run when evaluating using the addNIST test data:\n",
        "\n",
        "- Test accuracy 0.9710000157356262\n",
        "- Test loss: 0.13844501972198486 \n",
        "- Test precision 0.9771924614906311 \n",
        "- Test recall 0.9682999849319458 \n",
        "- Test F1 score 0.972725900300374 \n",
        "\n",
        "## Evaluating the results\n",
        "The primary metric we will consider is accuracy. Accuracy was picked as the metric of success for this model because it is often one of the best metrics of success for a classification model where there is a good distribution of data across the different classes, as is the case for the addNIST dataset.\n",
        "\n",
        "DenseNet201's performance, while 'acceptable' is lower than that of the novel models designed for Tasks 1 and 2. Considering that DenseNet201's training time is considerably higher than the novel models, the accuracy result is poor.\n",
        "\n",
        "If we also consider the charts from the training of DenseNet201 using the addNIST data, we might conclude that some kind of overfitting is taking place, possible due to DenseNet201's size and complexity. Utilising DenseNet201 as a model-as-a-layer, with other layers such as Dropout layers, could resolve the overfitting, if that is the cause of the problem.\n",
        "\n",
        "Additional metrics have been collected, including:\n",
        "\n",
        "- Test loss: 0.13844501972198486 \n",
        "- Test precision 0.9771924614906311 \n",
        "- Test recall 0.9682999849319458 \n",
        "- Test F1 score 0.972725900300374\n",
        "\n",
        "These results tell a similar story to that of the accuracy score; that effective inference is taking place. However, some improvements could be made. Notably, the test loss score is slightly higher than expected, considering the accuracy score. This might suggest that, even though there are few incorrect predictions, these predictions may be incorrect by a larger margin.\n",
        "\n",
        "\n",
        "## Conclusion\n",
        "While it can be concluded that DenseNet201 can be used as an effective classifier for addNIST image data. It could be argued that its performance is surprisingly poor, considering novel solutions, like those seen in the notebooks for Task-1 and Task-3, give marginally higher accuracy and have considerably lower training times."
      ]
    }
  ],
  "metadata": {
    "accelerator": "GPU",
    "colab": {
      "collapsed_sections": [],
      "name": "ML-Task2.ipynb",
      "provenance": []
    },
    "kernelspec": {
      "display_name": "Python 3",
      "name": "python3"
    },
    "language_info": {
      "name": "python"
    }
  },
  "nbformat": 4,
  "nbformat_minor": 0
}
