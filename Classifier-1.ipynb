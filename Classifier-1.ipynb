{
  "cells": [
    {
      "cell_type": "markdown",
      "metadata": {
        "id": "_5d4vEGn4aDR"
      },
      "source": [
        "# Classifier 1\n",
        "This classifier works by first training the model on MNIST data (from the Keras MNIST dataset). The AddNIST images are then split by colour channel into three separate images (each containing an individual digit). The final value is given by summing the output of three inference runs of the model (each on one of the individual digits) - 1. This is then compared to the labels for the original AddNIST image for evaluation."
      ]
    },
    {
      "cell_type": "markdown",
      "metadata": {
        "id": "Iw6KdNu5vhpZ"
      },
      "source": [
        "### Connect to Google Drive to retrieve data\n",
        "You can use the below cell to connect to your own google drive, if that is where you are storing the addNIST data you want to use for this notebook. If you are using data stored locally, leave this cell commented out."
      ]
    },
    {
      "cell_type": "code",
      "execution_count": null,
      "metadata": {
        "id": "Sc4AJyBjtHcN"
      },
      "outputs": [],
      "source": [
        "# to access google drive folder\n",
        "# from google.colab import drive\n",
        "# drive.mount('/content/drive') # When you run this you'll be prompted for a token - follow the link to generate this."
      ]
    },
    {
      "cell_type": "markdown",
      "metadata": {
        "id": "T-MpHIZnSycz",
        "nteract": {
          "transient": {
            "deleting": false
          }
        }
      },
      "source": [
        "## Importing libraries"
      ]
    },
    {
      "cell_type": "code",
      "execution_count": null,
      "metadata": {
        "gather": {
          "logged": 1612280524529
        },
        "id": "1BdCvqTgSyc0"
      },
      "outputs": [],
      "source": [
        "import numpy as np\n",
        "import tensorflow as tf\n",
        "from tensorflow import keras\n",
        "from tensorflow.keras import layers\n",
        "import tensorflow"
      ]
    },
    {
      "cell_type": "markdown",
      "metadata": {
        "id": "bC2GeKqpvrGA"
      },
      "source": [
        "### Load data"
      ]
    },
    {
      "cell_type": "code",
      "execution_count": null,
      "metadata": {
        "id": "50jMPuN3tSyO"
      },
      "outputs": [],
      "source": [
        "import numpy as np\n",
        "\n",
        "train_x = np.load(\"data/MNP/train_x.npy\", allow_pickle=True)\n",
        "\n",
        "# Alternative file-path for use with Google Drive, if that is where you have stored your AddNIST data\n",
        "#train_x = np.load(\"/content/drive/MyDrive/data/MNP/train_x.npy\", allow_pickle=True)"
      ]
    },
    {
      "cell_type": "code",
      "execution_count": null,
      "metadata": {
        "id": "o6AUUCiGtWM7"
      },
      "outputs": [],
      "source": [
        "train_y = np.load(\"data/MNP/train_y.npy\", allow_pickle=True)\n",
        "\n",
        "# Alternative file-path for use with Google Drive, if that is where you have stored your AddNIST data\n",
        "#train_y = np.load(\"/content/drive/MyDrive/data/MNP/train_y.npy\", allow_pickle=True)"
      ]
    },
    {
      "cell_type": "code",
      "execution_count": null,
      "metadata": {
        "id": "7rYykZHO89qJ"
      },
      "outputs": [],
      "source": [
        "validate_x = np.load(\"data/MNP/valid_x.npy\", allow_pickle=True)\n",
        "\n",
        "# Alternative file-path for use with Google Drive, if that is where you have stored your AddNIST data\n",
        "#validate_x = np.load(\"/content/drive/MyDrive/data/MNP/valid_x.npy\", allow_pickle=True)"
      ]
    },
    {
      "cell_type": "code",
      "execution_count": null,
      "metadata": {
        "id": "Epod6k5h9FNu"
      },
      "outputs": [],
      "source": [
        "validate_y = np.load(\"data/MNP/valid_y.npy\", allow_pickle=True)\n",
        "\n",
        "# Alternative file-path for use with Google Drive, if that is where you have stored your AddNIST data\n",
        "#validate_y = np.load(\"/content/drive/MyDrive/data/MNP/valid_y.npy\", allow_pickle=True)"
      ]
    },
    {
      "cell_type": "code",
      "execution_count": null,
      "metadata": {
        "id": "8KuZQCe-9s3R"
      },
      "outputs": [],
      "source": [
        "test_x = np.load(\"data/MNP/test_x.npy\", allow_pickle=True)\n",
        "\n",
        "# Alternative file-path for use with Google Drive, if that is where you have stored your AddNIST data\n",
        "#test_x = np.load(\"/content/drive/MyDrive/data/MNP/test_x.npy\", allow_pickle=True)"
      ]
    },
    {
      "cell_type": "code",
      "execution_count": null,
      "metadata": {
        "id": "01hcEICvL9BN"
      },
      "outputs": [],
      "source": [
        "test_y = np.load(\"data/MNP/test_y.npy\", allow_pickle=True)\n",
        "\n",
        "# Alternative file-path for use with Google Drive, if that is where you have stored your AddNIST data\n",
        "#test_y = np.load(\"/content/drive/MyDrive/data/MNP/test_y.npy\", allow_pickle=True)"
      ]
    },
    {
      "cell_type": "markdown",
      "metadata": {
        "id": "I2_K8Zr0hUbk"
      },
      "source": [
        "#### Import Keras MNIST data\n",
        "\n",
        "This data will be used for initial training of the model in this notebook; before the model is deployed on the AddNIST dataset"
      ]
    },
    {
      "cell_type": "code",
      "execution_count": null,
      "metadata": {
        "id": "dmVzoUTeIQ-t"
      },
      "outputs": [],
      "source": [
        "# the data, split between train and validate sets\n",
        "(MNIST_train_x, MNIST_train_y), (MNIST_test_x, MNIST_test_y) = tensorflow.keras.datasets.mnist.load_data()"
      ]
    },
    {
      "cell_type": "markdown",
      "metadata": {
        "id": "pjqB25NKejWy"
      },
      "source": [
        "### Check the shape of the data\n",
        "\n",
        "You can do this for all data files"
      ]
    },
    {
      "cell_type": "code",
      "execution_count": null,
      "metadata": {
        "id": "_qZpYDm79z1u"
      },
      "outputs": [],
      "source": [
        "print(\"MNIST_train_x shape:\", MNIST_train_x.shape)\n",
        "print(\"MNIST_test_x shape:\", MNIST_test_x.shape)\n",
        "print(\"test_x shape:\", test_x.shape)"
      ]
    },
    {
      "cell_type": "markdown",
      "metadata": {
        "id": "fjFmr__4yZzk"
      },
      "source": [
        "### Define number of classes and input shape to be used by the model"
      ]
    },
    {
      "cell_type": "code",
      "execution_count": null,
      "metadata": {
        "collapsed": true,
        "gather": {
          "logged": 1612280531130
        },
        "id": "NGOdwdMTSyc2",
        "jupyter": {
          "outputs_hidden": false,
          "source_hidden": false
        },
        "nteract": {
          "transient": {
            "deleting": false
          }
        }
      },
      "outputs": [],
      "source": [
        "# Model / data parameters\n",
        "num_classes = 10\n",
        "input_shape = (28, 28, 1)"
      ]
    },
    {
      "cell_type": "markdown",
      "metadata": {
        "id": "k88Gau6ryqZR"
      },
      "source": [
        "### Convert ground-truth label data into catagorical (One-hot-encoding) data"
      ]
    },
    {
      "cell_type": "code",
      "execution_count": null,
      "metadata": {
        "id": "9OYHIUUeJQPy"
      },
      "outputs": [],
      "source": [
        "# convert class vectors to one-hot-encoding\n",
        "MNIST_train_y = keras.utils.to_categorical(MNIST_train_y, num_classes)\n",
        "MNIST_test_y = keras.utils.to_categorical(MNIST_test_y, num_classes)\n",
        "test_y = keras.utils.to_categorical(test_y, 20)"
      ]
    },
    {
      "cell_type": "markdown",
      "metadata": {
        "id": "HZJ4j17nJxRN"
      },
      "source": [
        "### Normalise image data into [0, 1] range"
      ]
    },
    {
      "cell_type": "code",
      "execution_count": null,
      "metadata": {
        "id": "6oiaPz6gJvn7"
      },
      "outputs": [],
      "source": [
        "# Scale images to the [0, 1] range\n",
        "MNIST_train_x = MNIST_train_x.astype(\"float32\") / 255\n",
        "MNIST_test_x = MNIST_test_x.astype(\"float32\") / 255"
      ]
    },
    {
      "cell_type": "code",
      "execution_count": null,
      "metadata": {
        "collapsed": true,
        "gather": {
          "logged": 1612280544305
        },
        "id": "0EVXWgVKSyc5",
        "jupyter": {
          "outputs_hidden": false,
          "source_hidden": false
        },
        "nteract": {
          "transient": {
            "deleting": false
          }
        }
      },
      "outputs": [],
      "source": [
        "# Make sure images have shape (28, 28, 1)\n",
        "MNIST_train_x = np.expand_dims(MNIST_train_x, -1)\n",
        "MNIST_test_x = np.expand_dims(MNIST_test_x, -1)\n",
        "\n",
        "print(\"MNIST_train_x shape:\", MNIST_train_x.shape)\n",
        "print(\"MNIST_test_x shape:\", MNIST_test_x.shape)\n",
        "print(\"test_x shape:\", test_x.shape)"
      ]
    },
    {
      "cell_type": "markdown",
      "metadata": {
        "id": "ki2z6pQqQ-k4"
      },
      "source": [
        "### Define the model"
      ]
    },
    {
      "cell_type": "code",
      "execution_count": null,
      "metadata": {
        "collapsed": true,
        "gather": {
          "logged": 1612280579619
        },
        "id": "EJ67K5ihSyc6",
        "jupyter": {
          "outputs_hidden": false,
          "source_hidden": false
        },
        "nteract": {
          "transient": {
            "deleting": false
          }
        }
      },
      "outputs": [],
      "source": [
        "from keras.models import Sequential\n",
        "from keras.layers import Conv2D, MaxPooling2D\n",
        "from keras.layers import Dense, Dropout, Flatten\n",
        "\n",
        "model = Sequential()\n",
        "model.add(Conv2D(32, (3, 3), activation='relu', input_shape=input_shape)) # Input layer\n",
        "model.add(Conv2D(32, (3, 3), activation='relu', padding='same'))\n",
        "model.add(MaxPooling2D((2, 2)))\n",
        "model.add(Dropout(0.5))\n",
        "\n",
        "model.add(Conv2D(64, (3, 3), activation='relu', padding='same'))\n",
        "model.add(Conv2D(64, (3, 3), activation='relu', padding='same'))\n",
        "model.add(MaxPooling2D((2, 2)))\n",
        "model.add(Dropout(0.5))\n",
        "\n",
        "model.add(Conv2D(128, (3, 3), activation='relu', padding='same'))\n",
        "model.add(Conv2D(128, (3, 3), activation='relu', padding='same'))\n",
        "model.add(MaxPooling2D((2, 2)))\n",
        "model.add(Dropout(0.5))\n",
        "\n",
        "model.add(Flatten())\n",
        "model.add(Dense(256, activation='relu'))\n",
        "model.add(Dropout(0.5))\n",
        "model.add(Dense(10, activation='softmax')) # Output layer\n",
        "\n",
        "model.summary()"
      ]
    },
    {
      "cell_type": "markdown",
      "metadata": {
        "id": "Ig2vDJDK5_ow"
      },
      "source": [
        "### Define callbacks\n",
        "I have made use of Keras' callback api to define callbacks which will stop training when:\n",
        "1. There is a plateau in the increase in validation accuracy gained between epochs (e.g., if there has been no increase in val_accuracy after 5 epochs (compared to the max val_accuracy seen in any epoch so far)\n",
        "\n",
        "I have set `restore_best_weights = True`. This means that when the training 'early-stops', it will reset its weights back to the 'best' epoch seens so far.\n",
        "> Best, being defined here as either lowest val_loss or highest val_accuracy, depending upon which callback is triggered"
      ]
    },
    {
      "cell_type": "code",
      "execution_count": null,
      "metadata": {
        "id": "Lv4cwwXwVE2e"
      },
      "outputs": [],
      "source": [
        "from keras import callbacks\n",
        "earlystopping_acc = callbacks.EarlyStopping(monitor =\"val_accuracy\", mode =\"max\", patience = 6, restore_best_weights = True)"
      ]
    },
    {
      "cell_type": "markdown",
      "metadata": {
        "id": "0h3ZhfnL4Guu"
      },
      "source": [
        "### Compile and train the model\n",
        "\n"
      ]
    },
    {
      "cell_type": "code",
      "execution_count": null,
      "metadata": {
        "id": "qszwa3wQRMJT"
      },
      "outputs": [],
      "source": [
        "batch_size = 200\n",
        "epochs = 25\n",
        "\n",
        "model.compile(loss=\"categorical_crossentropy\", optimizer=\"adam\", metrics=[\"accuracy\", \"Precision\", \"Recall\"])\n",
        "\n",
        "history = model.fit(MNIST_train_x, MNIST_train_y, batch_size=batch_size, epochs=epochs, validation_data=(MNIST_test_x, MNIST_test_y), callbacks=[earlystopping_acc])"
      ]
    },
    {
      "cell_type": "markdown",
      "metadata": {
        "id": "SygDrG7VtJxz"
      },
      "source": [
        "### Save the trained model"
      ]
    },
    {
      "cell_type": "code",
      "execution_count": null,
      "metadata": {
        "id": "7RBwHYnGrizZ"
      },
      "outputs": [],
      "source": [
        "model.save(\"models/task-1/Task-1-model\")"
      ]
    },
    {
      "cell_type": "markdown",
      "metadata": {
        "id": "FvIY4ghSLAv_"
      },
      "source": [
        "### Define function to will split each image \n",
        "Splits each image in the addNIST dataset into three images; one for each RGB colour channel"
      ]
    },
    {
      "cell_type": "code",
      "execution_count": null,
      "metadata": {
        "id": "pr-K1U4TJC_z"
      },
      "outputs": [],
      "source": [
        "# Split image into three images, separateed by RGB colour channel\n",
        "def split(test_x):\n",
        "  red_images = []\n",
        "  blue_images = []\n",
        "  green_images = []\n",
        "\n",
        "  for x in test_x:\n",
        "    subimage = x.copy()\n",
        "\n",
        "    red_images.append(np.expand_dims(subimage[0], 2))\n",
        "\n",
        "    blue_images.append(np.expand_dims(subimage[1], 2))\n",
        "\n",
        "    green_images.append(np.expand_dims(subimage[2], 2))\n",
        "\n",
        "  return [red_images, green_images, blue_images]   "
      ]
    },
    {
      "cell_type": "markdown",
      "metadata": {
        "id": "fWlrwQ65gazb"
      },
      "source": [
        "Split images and make predictions based on the prediction of each colour channel's image"
      ]
    },
    {
      "cell_type": "code",
      "execution_count": null,
      "metadata": {
        "id": "iZ3_KSHzUQLK"
      },
      "outputs": [],
      "source": [
        "# Split images\n",
        "split_images = split(test_x)\n",
        "\n",
        "# Format images split into separate RGB channels into NumPy arrays\n",
        "red_imgs = np.array(split_images[0])\n",
        "green_imgs = np.array(split_images[1])\n",
        "blue_imgs = np.array(split_images[2])\n",
        "\n",
        "# Make predictions for each set of images\n",
        "red_y_preds = model.predict(red_imgs)\n",
        "green_y_preds = model.predict(green_imgs)\n",
        "blue_y_preds = model.predict(blue_imgs)\n",
        "\n",
        "predictions = []\n",
        "\n",
        "# Sum the predictions from each colour channel, subtract 1, and add the results as the prediction to be compared against addNIST ground truth label\n",
        "for i in range(len(red_y_preds)):\n",
        "  predictions.append((np.argmax(red_y_preds[i]) + np.argmax(green_y_preds[i]) + np.argmax(blue_y_preds[i]) - 1))\n",
        "\n",
        "predictions = np.array(predictions)"
      ]
    },
    {
      "cell_type": "code",
      "execution_count": null,
      "metadata": {
        "id": "lSRni-GhmKyL"
      },
      "outputs": [],
      "source": [
        "import sklearn.metrics as metrics\n",
        "import matplotlib.pyplot as plt"
      ]
    },
    {
      "cell_type": "code",
      "execution_count": null,
      "metadata": {
        "id": "1dHDkwHemZ1h"
      },
      "outputs": [],
      "source": [
        "accuracy = metrics.accuracy_score(np.argmax(test_y, axis=1), predictions)\n",
        "precision = metrics.precision_score(np.argmax(test_y, axis=1), predictions, average=\"micro\")\n",
        "recal = metrics.recall_score(np.argmax(test_y, axis=1), predictions, average=\"micro\")\n",
        "f1 = metrics.f1_score(np.argmax(test_y, axis=1), predictions, average=\"micro\")\n",
        "print(\"Accuracy score for AddNIST test data:\", accuracy)\n",
        "print(\"Precision score for AddNIST test data:\", precision)\n",
        "print(\"Recal score for AddNIST test data:\", recal)\n",
        "print(\"F1 score for AddNIST test data:\", f1)"
      ]
    },
    {
      "cell_type": "markdown",
      "metadata": {
        "id": "SWlISLmK4cY8"
      },
      "source": [
        "## Visualise the training and validation results"
      ]
    },
    {
      "cell_type": "markdown",
      "metadata": {
        "id": "OSk3oZNO4nU8"
      },
      "source": [
        "### Visualise comparison of loss in training data and in validation data for each epoch in training"
      ]
    },
    {
      "cell_type": "code",
      "execution_count": null,
      "metadata": {
        "collapsed": true,
        "gather": {
          "logged": 1611659614389
        },
        "id": "2tgFE-zCSyc8",
        "jupyter": {
          "outputs_hidden": false,
          "source_hidden": false
        },
        "nteract": {
          "transient": {
            "deleting": false
          }
        }
      },
      "outputs": [],
      "source": [
        "# Plot training and validation loss\n",
        "# Code taken from CSC3138 Practical2a.ipynb\n",
        "import matplotlib.pyplot as plt\n",
        "\n",
        "history_dict = history.history\n",
        "loss_values = history_dict['loss']\n",
        "val_loss_values = history_dict['val_loss']\n",
        "\n",
        "epochs = range(1, len(loss_values) + 1)\n",
        "\n",
        "def plot_training_loss(history_dict):\n",
        "  plt.plot(epochs, history_dict['loss'], 'bo', label='Training loss') # blue dots\n",
        "  plt.plot(epochs, history_dict['val_loss'], 'b', label='Validation loss') # blue line\n",
        "  plt.xlabel('Epochs')\n",
        "  plt.ylabel('Loss')\n",
        "  plt.legend()\n",
        "\n",
        "  plt.show()\n",
        "\n",
        "plot_training_loss(history_dict)"
      ]
    },
    {
      "cell_type": "markdown",
      "metadata": {
        "id": "jzp9vLOs4uVP"
      },
      "source": [
        "### Visualise comparison of accuracy in training data and in validation data for each epoch in training"
      ]
    },
    {
      "cell_type": "code",
      "execution_count": null,
      "metadata": {
        "collapsed": true,
        "gather": {
          "logged": 1611659711261
        },
        "id": "CUoWAuYlSyc9",
        "jupyter": {
          "outputs_hidden": false,
          "source_hidden": false
        },
        "nteract": {
          "transient": {
            "deleting": false
          }
        }
      },
      "outputs": [],
      "source": [
        "# Plot training and validation accuracy\n",
        "# Code taken from CSC3138 Practical2a.ipynb\n",
        "def plot_training_accuracy(history_dict):\n",
        "  plt.clf()\n",
        "  acc = history_dict['accuracy']\n",
        "  val_acc = history_dict['val_accuracy']\n",
        "\n",
        "  plt.plot(epochs, acc, 'bo', label='Training acc')\n",
        "  plt.plot(epochs, val_acc, 'b', label='Validation acc')\n",
        "  plt.title('Training and validation accuracy')\n",
        "  plt.xlabel('Epochs')\n",
        "  plt.ylabel('Accuracy')\n",
        "  plt.legend()\n",
        "\n",
        "  plt.show()\n",
        "\n",
        "plot_training_accuracy(history_dict)"
      ]
    },
    {
      "cell_type": "markdown",
      "metadata": {
        "id": "uEMq6lWu45Ob"
      },
      "source": [
        "### Visualise results in a confusion matrix\n",
        "Matrix plots predictions from test data, against ground truth labels"
      ]
    },
    {
      "cell_type": "code",
      "execution_count": null,
      "metadata": {
        "id": "XNyM-n9PTpHm"
      },
      "outputs": [],
      "source": [
        "# Function to plot the confusion matrix:\n",
        "def plot_confusion_matrix(gt, pred, classes=0, normalize=False, title='Confusion Matrix', cmap=plt.cm.Blues):\n",
        "\n",
        "    cm = metrics.confusion_matrix(gt, pred, labels=classes)\n",
        "    np.set_printoptions(precision=2)\n",
        "\n",
        "    if normalize:\n",
        "        cm = cm.astype('float') / cm.sum(axis=1)[:, np.newaxis]\n",
        "\n",
        "    plt.imshow(cm, interpolation='nearest', cmap=cmap)\n",
        "    plt.title(title)\n",
        "    plt.colorbar()\n",
        "    tick_marks = np.arange(len(classes))\n",
        "\n",
        "    plt.xticks(tick_marks, fontsize=7)\n",
        "    plt.yticks(tick_marks, fontsize=7)\n",
        "\n",
        "    plt.grid(True)\n",
        "\n",
        "    plt.ylabel('Ground Truth')\n",
        "    plt.xlabel('Predictions')\n",
        "    plt.tight_layout()\n",
        "    plt.savefig(f\"cm.pdf\", bbox_inches='tight')\n",
        "    plt.show()\n",
        "    plt.close()"
      ]
    },
    {
      "cell_type": "code",
      "execution_count": null,
      "metadata": {
        "id": "AmTNS7K8Tt0D"
      },
      "outputs": [],
      "source": [
        "# Plot confusion matrix with 20 classes from addNIST\n",
        "plot_confusion_matrix(np.argmax(test_y, axis=1), predictions, [0, 1, 2, 3, 4, 5, 6, 7, 8, 9, 10, 11, 12, 13, 14, 15, 16, 17, 18, 19], normalize=False)"
      ]
    },
    {
      "cell_type": "markdown",
      "metadata": {
        "id": "Gr4hK3KKc2UO"
      },
      "source": [
        "Output from the below cell shows predictions where the prediction is outside of the 20 pre-defined classes for the addNIST dataset (0 - 19), e.g. the prediction is >= 20. This has been excluded from the confusion matrix to ensure clarity of that chart, and are instead shown below to ensure they are visible."
      ]
    },
    {
      "cell_type": "code",
      "execution_count": null,
      "metadata": {
        "id": "vFCaE3MA3L5G"
      },
      "outputs": [],
      "source": [
        "for i in range(len(predictions)):\n",
        "  if predictions[i] > 19:\n",
        "    print(f\"Prediction: {predictions[i]}  |  Ground truth: {np.argmax(test_y, axis=1)[i]}\")"
      ]
    },
    {
      "cell_type": "markdown",
      "metadata": {
        "id": "BR0sbavUCAYL"
      },
      "source": [
        "# Report"
      ]
    },
    {
      "cell_type": "markdown",
      "metadata": {
        "id": "JFvkQOj-76Dy"
      },
      "source": [
        "# Creating a Convolutional Neural Network Classifier for the addNIST Dataset\n",
        "## Introduction\n",
        "The aim of this report is to examine the effectiveness of the novel convolutional neural network created in this notebook when it is deployed as a classifier for the addNIST dataset.\n",
        "\n",
        "## Background\n",
        "The addNISt dataset is a dataset comprising of three 'hand-written' digits from the MNIST library, overlayed on top of each other, separated by the three RGB colour channels (Red, Green, Blue). These images each have a label that equals the sum of the three numbers within the image, minus 1.\n",
        "\n",
        "The MNIST library is a library of grey-scale images containing 'hand-written' digits in the range 0-9. These images have a label equal to the digit displayed in the image.\n",
        "\n",
        "The purpose of the model in this notebook is for it to work as an effective classifier of samples within the addNIST dataset. The model will first be trained using the MNIST library. Then, the RGB images within the addNIST library will each be split into three images (one for each colour channel). The model will then predict the values of the individual digits contained within the split-out images. Final classification will be given to the original addNIST samples using the formula `red_image-prediction + gree_image_prediction + blue_image_prediction - 1)`.\n",
        "\n",
        "## The model\n",
        "The model is a Convolutional Neural Network made up primarily of three sets of 2 Convolutional layers, 1 Max-pooling layer and 1 dropout layer; followed by one fully-connected dense layer, a final Dropout layer and a dense layer with softmax activation for final classification. The model is shown in Figure-1.\n",
        "\n",
        "Convolution layers have been used due to the power of convolution layers\n",
        "learn 'local' patterns within images; making them the obvious choice for image classification models.\n",
        "\n",
        "Dropout has been used to moderate overfitting, by dropping out some of the output features from the previous layers. This helps increase the generalisation of the model's inference, and thus reduces overfitting.\n",
        "\n",
        "![image.png](data:image/png;base64,iVBORw0KGgoAAAANSUhEUgAAAhEAAAFtCAYAAAC5ljg1AAAgAElEQVR4nO3deXQb533v//dI1OpFjldAJmPDlpfESxLGSQikchImipM6XQSUbAh2U33be1ul7a2qX3taQkxDAmnj6qpJet3e9kZZTgrwXrKA6sZuFrVMaiUAfWPTsZV6kSjBNiEBlrWvpkRxfn8MQIIkKJHAgADJz+scnGNiZr7PA9L2fPA8z8wYpmmaiIiIiMzQokp3QEREROYmhQgREREpikKEiIiIFEUhQkRERIqiECEiIiJFUYgQERGRoihEiIiISFEUIkRERKQoChEiIiJSFIUIERERKYpChIiIiBRFIUJERESKohAhIiIiRVGIEBERkaIoRIiIiEhRairdARGR+Wjk/Imy1l+0dFVZ64tMh0KEiIjNTiV7yPz4Cwyd2mN77UUMYy66kns2HLK9tshMKUSIiNjoVLKH1/79N7jxvr9gxbXvsbX2uTe/z7FX/oJz5960ta5IsbQmQkTEJrMRIFau+RwXR2wtLVI0jUSIiNjg5P5uXu/dUPYAsfiq+22tLVIKjUSIiJRIAWKmMkSaDYzmCJnp7J6K4OtMjP2zYeDrmtaRxekLYRgGob4SamT7aUx8TeszJwgZBkbuM0/c2mlgGCESl3lvNihEiIiUoJwB4uyh+RggZipBqK6VWO7HWj9R0yTa4qhkp6bNG0ljmqb1Ggzj7WllYzkD0CxTiBARKdKJPV9nsPc3uOGd7Sy/+k7M4TO2vc6kv83xPTYHiAnfjsd9055q2+g3/4j17Tj/G/LEb+yTRgkSY8dcavRgQp1Mlw/D8BFJZYg0ewgAtHusb/EFRiKsb+EFvunn6naNfbb846x2csf6iKSm+4vMfq7pjqTk1LqoB2IDyfF1Cv095gitiRARKdIbPw5QsxhO7Ali910hjMVX2DwCYX2jJ5LGbHGQ6DTwuEM0mm24UxF8edsyXT6cbh+uwSj+7NGxHfCYafJIlw+nfyuRDVH8DY0Egf5kBhocZHZFieElvNZhtWd4CHTEMbe4rRO620nIZdLWMN0+O/B3x0nm10lFxn+qTgNPe5C42YY726az02XtmxUYcGGaprWvfzuJFuszb/TXEzejo8e1borQ2O2nbGMcqST9gHeNC2tKx0OgKUy62w/5v/PacnXAfgoRIiJFGjl3gLsffqYstV9+8gF7pzD6egmMnuDBvcXE3GJtGn/yB0fLZoJ+D61fS+DfkD3+Ppd1cnXVAwGSKaDWTWMHBHb0kmlppHdHDJrCNNbm2oPguuzJvOERwk0BWrdFeKS70aYPlaC3HehoxGrFzSMRL4FcyMnuZZ20wbXGC/STTIG71k/UzI5G+GMFq0+SDVuje/e04jRagVyImSzmd2L4x372RtLWVEwqQrQHvJFG6/e61oeX1uzvdWa/hUrSdIaIyAKQSfZPuS05EAPqcV3i5JU7EU/kXheEnii9fb3WSXG9dVK02vNesmbJxn2zn1q9q8DYQnaqw7nDR9pME26aRnvZ9RimGScI0BQmbZqYUwQIyK2JGKs/2pdUkhjZkGEYGNlw0p+cW+slFCJERBYAh6seiFnfdCfI/4Y+Yw2NBIkR3WaNZvhyoxmXaM82k9YYTF9iZwAIEi/n9MUoB/5tYbxAwJ29gqLWhZcJCy+nuWDU+ntVB4UIEZGFILt+IbDTWhQ5tngRHGt9eIkR3ZXJbttqTX1smOr7dT5rSiPWE4MmnzWVUaA9+rbT2gPBTQVO2tkTqvUtPGNNi0yL1TbtvdlLGxNs98egY/Nl1xWMC07Zvk2fmzbTxJxJAKn1s7kDIMDWrgzUNuJrgtiOXjKM/3tcjiM7pbQ1bwHr+Gmd2aMQISKyILhpGwzjbfdYw/j+GMFEdhFfrZ/oYBiyQ+tOP4RnsMDPvS4IjE1ljLZnxglm2zPcAYKJKRZVZk+w1tD+RpL35X/TzgUFT8H7ILi3mMQ7AngMAyN/AeZlOFo2EyRGa52B4e7H2wT0JJn5mMb0ubdY0yAx/0YiKWvRaLCnFefEv0dO7nc38cqThjbSEe/YVIiRXaA5jc9tN8M0TXPWWxURmQde/opR1oWVVz/w7Unvn35jFxdP9PKO5tm+rZDIZLo6Q0Rkjjj9xi7OvvpF7vz5JyvdFRFA0xkiInNCfoBY6fxwpbsjAihEiIhUPQUIqVYKESIiVUwBQqqZ1kSIiFSpU5mnOPfalxQgpGopRIiIlGDkwumy1VaAkGqnSzxFRIo0+EQj5448W5baI4uv4+0f/aoChFQ1hQgREREpihZWioiISFEUIkRERKQoChEiIiJSFIUIERERKYpChIiIiBRFIUJERESKohAhIiIiRdEdK0VEymD47Nmy1q9ZubKs9UWmQyFCRMRmbyTi7Pmnbs6k0/YXHxnBWL6ch77+Tftri8yQQoSIiI3eSMTp//IXufPnf4FVdW+3tfaxvXt49Xvf5dzJE7bWFSmW1kSIiNiknAHieDZA3PyJTzCipxVIldBIhIiIDTLxH/Hc33ypbAEimQ0QK52rba0tUgqNRIiIlEgBYrZkiDQbGM0RMgB9IQzDINRX6X4tXBqJEBEpQTkDxLE9e3h1pwLElBraMM22SvdiQdNIhIhIkQ58v5fn/uZLrPnkz3LlTQ4unj9v2+vIiy/aGyBy39q7IvgMA8MwMDoTJDqz/2z4iKTGdh9738AwQiSsdwkZYyMBmS7fFCMBuRGDEKHmwvVJ5fVjUo1sO9mXrytz6c/UN1bP1xUZO7YzUbi9zpC1T/52KYpGIkREirSn6x+pMeC1733H9tqLly4tywhEYMCFaZokOg087R62RtKYZpKQ4aF1U4TGbj+OvhCe3WHSph9HKoKvrhVPZyPmFjdtiSABdysbO5PQHoOOOG0NUzTW049r0MTsToyvn61JJI3Z4iDT5cPp9uEajOKvtfYNdMQxt7itoOB2EnKZU7eTJ7YDHjNNHuny4fRvJbIhir82Q2RTKzGCxM023H0hjHZbf60LlkKEiEiRzh87xof/LFCW2j/4fLAsUxjBdW4AXGu8APjWOqyfm/J2amjD7LZGI5wTT7YNjxBuCtDaHgC8hDe4p26syUdjLYCbRyJeAv4ovSk/jbuixPASzrbtaNlM0O+h9WsJ/Ot6CeT1c7S9bREe6W68/Ae8z4UDwFUPBEimAHqJ9gAdjbgBGhoJAuX5yy0sms4QEZFxctMUHuKYZpzguK0O/Juy73Rsxl878/rJgRhQj6vAsZlkP+AtuG06vGtcRW2T4ihEiIhIngy9O2LQFCa9pdAoQ4KQO/sdvt1T1JUR1ihIf3aUYDyHqx6IFdxWqthA0v6iC5xChIiI5HHgug/oSZIEMl1bxw37Jzo9BPASHrRGKALu3KLLAnpa2d4HkGC7PzY6veFY68NLjOgua8Gk1UZ2aiQ31bAzW7VvO609ENzkt6YpilHbiK8JaO8lUeAzSfEUIkREZBz3hjBeAngMA6cfvE3A7iSZVISt7WSnMaxFlhBg61RXTzSFce00MAwPAYLEu7NBoNZPdDAMfidGto3wYDQ7NeKmzYwTbPdYV1K4AwQT01tUOTUH/m15n2mgfsIUjRTLME3dP1VEpBjfbVpf1oWVd/3Wf530/uG9eznzapIP/dW2srRrjwyRZiethEl3lzCCUK7+5F0dEm2pfO/mMl2dISIyRxzeu5f0U//BB9v/vNJdmWOsxaCt7lacRqv1VlOYtAJEyRQiRETmgCN5AeLae+6tdHcuw4G/28Rf6W7k090ty0JrIkREqtyRvXs5OGcChCwkChEiIlVMAUKqmaYzRESq1OG9e0g/9ZQChFQthQgRkRIMDw2VrbYChFQ7XeIpIlKkZz7bxolkee6CaFxxBe/+zB8oQEhVU4gQERGRomhhpYiIiBRFIUJERESKohAhIiIiRVGIEBERkaIoRIiIiEhRFCJERESkKAoRIiIiUhTdsVJEpAzODQ2Xtf6KZfrft1Se/i0UEbHZc3ve5NuJfRw+fs722iOmwdIak0c/8xHba4vMlEKEiIiNntv7Jl9/cjcfd6/h5huutrV28uBxnnrudU6etT+ciBRDayJERGzy3N43+foT5Q0QD77LgTly0dbaIsXSSISIiA369xziG0/+tDwBIj0WIG68ZoWttUVKoZEIEZESlT1A9CtASHVSiBARKUE5A8T+g8dsDRCJTgPDsF6hvkvtmSHSbGA0R8gA9IWmccwclorg60zM+LBMlw/D8BFJldi2MfZ3GX3lfveXlCBkGBhT9N36e4dIXOa9UihEiIgUqe8/03zjyZ/ykffdxg3XXMH5Cxdte+0ZPMKu5wZtHIFI0NsONIVJmyZtDTaUnBcShOpaiVW4F95IGtM0rddgGG9PKxu7Lh8jKk0hQkSkSN/60X4W1yzhhz8ZpPvfXrT19dzLGRsDRIZIs4cAQE8rTiNEIvsN2Jc7UU1rtGHCCAWX+TY+4Vv2uNpTbRvtV8T6lj3um/ZY+5HRUZXx36qt/hT6Np89dlzNvN9Lu2fSyEuh+mOjOT62D1zqdwWjIwXTGlXIU+uiHogNJMfXmdYo0uzSwkoRkSKdPHOB3/evLUvtL0d22bgGwoG/O07S8BBoCpPu9uNIRYqq07jeC/4ovSk//toMvTti0BSmsXbivtY3fCJpzBYHiU4DjztEo9mGOxXBl7ct0+XD6fbhGozizx4d2wGPmSaPdPlw+rcS2RDFn2ujJwrbTMwNVp2tXY8QbXFAXwinP0YwYdLWkCBkeHB2ujC3uEl0OmklTNr04+gLYbg9hNaZtOV+Lx1xzC1uK8S4A3gjaaItEGl24ml2Wb+zvhCedsZtA2+xf5SppZL0A941LkaDTvbvRv7vatLvfPZpJEJERKbNsdaHlxjRXRlI9RLtAe/6RhwTd+zrJYAX31pri3uLiWm24QYyu6LE8rY5WjYTJEbr1/K+89/nwgE4XPVAjOS4kY56XLVM+sae2BkAgjQ2ALhp7AB2J8lkp3JG+9nQhjnFlM74vmVDU0+SZF79zS152woZHWXJH/259FqEmN85NvqRDVjRFsek33Hu958sZR2GjRQiRERk+mob8TVZJ+6JYSBfJtk/ZYnkQIzRIDAF61v4FJpcTN6aIbkbIIAnezL2tGMFgOw3++mw+hajtc6q4fTHgP6ZnbRr/URNE9OME4TRdSi5EFWItSYiTbjJ+rnelf2dppLEyAsZ2fUb/cnqWC+hECEiIjOQ/Qbe3sv2gRg0+QpMZUw1gmBxrfEy4xPzNPrlug8gSDy3QDF34p60xmBqVt+8hAfza+RPHdjd7/Gfwb8tjBcIuLOjFrUuvExYeGma1ijFtD5LeSlEiIgsRAWnAqbHGlIPEGifYioDoKGRIBDYaQ3g5y/AHDclAmS6thLAS3jDVN/Tp8e9LggE6O2D8Zc/Zqc22nutE/PERaWTPluub+MXklr1x7b17rjcNR1u2kwTs9tf+HdUSK2fzR0AAbZ2ZcZGfnb0kmFml5VaQS5bBxi9QqejccoRkZnSwkoRkTkkeeAotzqvsaGSm0ciXgJ+D0Y7BDusE/C05E5sPYWnMnL12wbD9NdZ9QGCCTP7jd5PdBB8dU4MP1jf/LPf9kv5lt/QRjrSj9NtWJ+kKUx6i3W6dG9JE97txGNkP2NHHDO3tqED6+qM9iBxs41oIonhzvUtSNz0j66lSEf6cfqdGH4vwQ4v9JTQ3ym4t8QJtnsI+DcSWRsdXRTrNFqB/N9jVvvY75jc5+724xjX37xtW+yKEGCYpmnaVk1EZAH5vb/+QVmvzvh04+3j3kseOMrTL73B7//y+7mj1o4gUawMkebs1Q4z+ZYt845GIkRE5oBqCRCZLl92saGX8KACxEKnECEiUuWSB6sjQAA4WqKYLRXtglQRLawUEaliyYNHefrF6ggQIhNpJEJEpErtP3CE//fSIQUIqVoKESIiJRg6P1y22goQUu10dYaISJG+/E/PM/jGqbLUXr4Ufu2T9ypASFVTiBAREZGiaGGliIiIFEUhQkRERIqiECEiIiJFUYgQERGRoihEiIiISFEUIkRERKQoChEiIiJSFN2xUkSkDIYunCtr/WVLVpS1vsh0KESIiNjsxfSz/ODFb3HszGHba5vGCEtYwp/83Jdsry0yUwoRIiI2ein9LLEfb+eBWx7iuludttbOnEqy++BTnDl3xta6IsXSmggREZu8lH6WaC5AXFmeAHHP9Q8yMjJia22RYilEiIjY4MWDz5QtQLyRFyBWLbvR1tqXk+g0MAzrFeoDUhF8nYlZ7YNUL4UIEZESvXjwGWLPfLVsAeKFCgUISNDbDjSFSZsmbQ0JQnWtxGa5F1K9FCJEREpQzgCRObnftgCR6fKNjigYRohxYwmpCD5jwogDGSLNHgIAPa04jT/lc7mf2z0YzREyfSFr/6684zsTeaMXPiKpsWbyRzXG+pAgZBhWvbx+Wn2QaqcQISJSpOcH48Se+Srvqfsoq1Zcx/DF87a9Dh7fw+70LntGIFIRNvpjeCNpTDNOkACe3JREKoKvrhUiaUzTJB3xEnD7iKQc+LvjBCE7EvEXfDb3c0ccs9uPI1s+MOAiaprEO4B2D1vX5NqJ0brJCgf0hfDstkY0zMEw3tE+uGlLBKGnlY2dITb6Y9ARp62htI8ss0NXZ4iIFOnfX/xnFtUs4oX0D2yvXbNoqe1TGDG/Ex9poqZJW/a9zK4oMbyE11qRwNGymaDfQ+vXEvi3TK9ucJ0bANcaLwC+bC1XU95ODW2Y3dZohLN9QoGGRwg3BWhtDwBewhvcxX1AmXUKESIiRTpz4QS+9/1+WWpHf/xl+wJErZ/NHa3E2q0gYfjBG0kTbXGQHIgBQVy19jQ1lUyXD2d2lME0IWRkp0YAcODfFKS1JwAdm/GXuS9iH01niIgsAO4tJqZpYiaCAMT8G4mkcqMH/SRTlz6+NBl6d8SsaZEthUYZEoTc2UjR7tF6iDlEIUJEZL7LLYDsAxrarLUL1OOqBcdaH15iRHdlAMh0bSVg+5SCA9d9QE+S5GgbYxKdHqvNQWvNRcA9YeGnVC2FCBGR+a6hLbtg0roywtMOwUQbboBaP9HBMPidGIaB0w/hwegUUwpuGrOLJydd4XEZ7g3ZxZTZNrxNwO4kmVSEre1kpzGyiywJsLUrU/LHlvIzTNM0K90JEZG5qPOJ/1rWNRFr6z5dcNu/7fkmwaavlqVdkZnQSISIyBySPpFk9TW3VrobIoBChIjInJE+kWTvkf/Hw/WFRyhEZptChIjIHJALEL/+4CZuue7OSndHBFCIEBGpehkFCKlSChEiIlUscyLJHgUIqVK6Y6WISJVKH0+y96gChFQvhQgRkWKZcGH4fNnKK0BItVOIEBEpUt11d/CdF75eltpXLnkbXvdvKkBIVdPNpkRERKQoWlgpIiIiRVGIEBERkaIoRIiIiEhRFCJERESkKAoRIiIiUhSFCBERESmKQoSIiIgURSFCREREiqIQISIiIkVRiBAREZGiKESIiIhIURQiREREpCh6iqeISBmcf+tCWesvXb6krPVFpkMhQkTEZvteGOTp7zzPyaMn7S9uGiyqWcRvh37Z/toiM6QQISJio4HnX+d74V2868G7ufamu22t/WbqGC/17efcmbdsrStSLK2JEBGxSS5A3P/gXVx70ypba+cCxB3vr2NkZKT0gn0hDMMg1Fd6KXtliDSHSFS6GzItChEiIjbIDxDX3XSNrbUPDR4dDRBXXbfS1trVJtHppLWn0r2Q6VKIEBEpUbkDxMtPJ1nz/tqSA0Smy4dhGNYIxM5xW4g0GxjNIULNBobhI5ICSBDK7m8YBr6uzBT75x+TlYrgyzt2dMQj+/5orbwRkUyXD087QADPxHpSlRQiRERKsG80QNxd1gBx9XVXlFYsFWGjPwYdcUzTpJHA5H16+nFtMzHNKP7aBCHDQyC7v5kIEvM7x09/jO4fJ0iM1k0RMtm2fHWtEEljmibpiJeA+/KhwNESJd4BECRuRvHXlvaRpfwUIkREivTKM0m+G97FvZ47WXXtlQxfuGjbK/PqYfsCBJDZFSWGl/AGNwDudcHJOzX5aMyduPt6CQDBddb+NDxCuAkC27JBYdz+bh6JeKEnSm9qrC3fWgcAjpbNVsj4mlY6zDe6OkNEpEiJJ39CzaIaXnk6aXvtmiWLueMDdVx1bWXWQGSS/YAXVxGjAcmBGBAs6liZWxQiRESKdO7UWzz8mx8pS+0nv/r9MgSIGMkUMI2Tu8NVDwSmvX8+1xov0E8yBW4FiXlN0xkiIguAY60PLxDYaU0pJHYWWBORr6GRYN7+9G2ntQeCm/w4cvv0tLK9DyDBdn9sdHrDaitGdJc18ZHp2kogN5VS66IeiA0kp9cPqWoKESIiC0Gtn2giCO0eDMOglwJrIsZx02bGCWb3N9wBggmTtoa8XZrCuHYaGIaHAEHi3dmAUesnOhgGvxPDMHD6ITyYWyiZXT8xRT+stRoBPFV5DwuZyDBN06x0J0RE5qK/29xV1umMBz71joLbfhh7jj/88oaytDs9GSLNTloJk+7OG5mQBUcjESIiIlIULawUEZlDDqWOctPbr61wLxz4u038Fe6FVJ5GIkRE5ohDqaPsf+4AH17vrnRXRACFCBGROSEXIHy/+xCrb7+x0t0RATSdISJS9d4YPELyJwcVIKTqaCRCRKSK5QKE93c/rgAhVUchQkSkSuUHiJtvv6nS3RGZRNMZIiIlGD4/XLbaChBS7RQiRESK5HTdSG9PeZ5MuWLVMj7e+lFW36YpDKleumOliIiIFEVrIkRERKQoChEiIiJSFIUIERERKYpChIiIiBRFIUJERESKohAhIiIiRVGIEBERkaIoRIiIiEhRFCKqWoKQYWB0lueOeCIiIqVQiKhWqQg+w0Og0v0QERGZgkLEdPWFMAwj+/IRSY1tSnQaY9uaI2QmHBPqiuDLbvd1ZfKOCZEbY8h0+cbqpiL46lqJzeLHExERmSmFiOlIRfC5AwQTJqaZJtwUo3WTFRYSnQae9iBx08Q04wR7WnFOmH4IDLiImibxDoj5t5MA3OuCQD/JFECG3h0xaPLRWJs9qCOOORjGO6sfVEREZPoUIqYhsytKjCCNDQAO/N0mZrcfBwl624GORtwAuHkk4oX2reNGKrxrXAC41ngZDQ4NjQSJEd2VgVQv0R7wrm/EAVDrJ7rFPaufUUREZKYUIqYhOTDFxEIqST9jIWEq9S5HgXfdNHZAbEcviV1RYnjxrS20n4iISHVSiJiGcSMI+Wpd1AOxgWRRdd3rgtATZevEqQwREZE5QCFiGhxrfXhzUw/kL4q0RhNo780ukEyw3R+Djs34pxMIslMasfypDBERkTmiptIdmBNq/UQTSQy3E8MP4CU82Gatg9hiEsfAY2QvxuyIY057PUMuhGgqQ0RE5h7DNE2z0p0QERGRuUfTGSIiIlIUhQgREREpikKEiIiIFEUhQkRERIqiECEiIiJFUYgQERGRoihEiIiISFEUIkRERKQoChEiIiJSFIUIERERKYpChMxL1kPScq9Q9gFpIiJiJ4UImX/6QnjaIZgwMc004aYAnk7FCBERuylEFOFsZte0X+WsMaf0hfJGBnxEUmObxo0aNEfITDgm1BXBl93u65r4OHZLpss3VrehDdM0aWsAcOC6j7zHtYuIiF30KPAZOvLCo2Se/wdqlq665H7m+Te4OHSUe/7L2bLUmFNSEXzuAMGESVtDhkizk9ZNERq7/SQ7DTztQeJmG24ShAwPzk7XuMepBwZcmKZJotPA499OoqUN97ogtPeTTIG7NkPvjhg0hWmsndz21nagyYVrVj+0iMj8pxAxA0deeJRDL3wF57s+z5IVzin3OzUY4Uz6O5wdOleWGnNNZleUGEE2Z0cG/N0mfgASbG8HOhqxIoObRyJeAv6tRDZEs/uAd411+net8QLZ4NDQSJAA0V0Z/Gt7ifaAN9KIY1zLCUJ1rcQA7/qJ20REpFSazpim3Mn/pvuD0zr5r1jz55im/TXmouRArPCGVJJ+xkLCVOpdhU7/bho7ILajl8SuKDG8+Nbm75ch0uwhANAU5rEWRQgREbspRExDMSf/Rctusr3GXJU/gjBOrYt6IDaQLKque10QeqJs3RGDJt+4qYxEp5PWHoAg8W6/RiFERMpAIeIyZnTyz9gQIKaoMZc51vrwEiO6a+KiSGs0YWzRY4Lt/hh0bMY/cW1DIQ2NBIkR65kwXZG9OgO8hAfbcE9dQURESqA1EZcw45P/7TYEiAI15rxaP9FEEsPtxPDDuJP7FpM4Bh4jYO3bER+3qPLSciFk/FRGYme2FjFa6wxaAcgt3hQREbsYpjkfZt3td/SFR3ljmif/05nvsLJQgOj7JDVX3lFSjfQPP8l7P6M/kYiIVB+NRBSQCxCOd4WoWT71bPqlTv7nMz0YS28sqYaIiEg105qICewKEGfe+D43v+9/KkCIiMi8pRCRx84Asbr+CwoQIiIyrylEZI2ugbAhQDgVIEREZAFQiGB8gFhiQ4AotoaIiMhcsuBDhAKEiIhIcRZ0iFCAEBERKd6CDREKECIiIqVZkCFCAUJERKR0C+5mU9MOEK9HOP1GiQHiEjVERETmugUVIo6+8Chv7J5+gLhizecwlt44btv5TA9nDk0/QBSqISIiMh8smOmM0QBxvw0B4j0KECIiIgsiRMwkQJyxIUBMVUNkPrEe6Z59NUfIVLpDIjLr5n2IOPrCo2Re+N/TDhArpggQpw/1TjtAFKohMq/0hfC0QzBhYg6G8fa0srFLMUJkoZnXISIXIBzv+vxlr6DInfwXTREgVr/n0aJriMyKvtDYyIDhI5Ia2zTlqEH2mFBXBF92uy8bBqxjQiSyu2a6fGN1G9owTZO2hln8fCJSdeZtiJhRgMjYECCmqCEyK1IRfO6ANTJgpgk3xWjdZIWFRKeBpz1I3DQxzTjBnlacnYlxh79NnBsAACAASURBVAcGXERNk3gHxPzbSQDudUGgn2QKIEPvjhg0+WiszTuwL4RR10p9wiTaMvV/IyIyP83LEKEAIQtNZleUGEEaGwAc+LtNzG4/DhL0tgMdjbgBcPNIxAvtW8eNVHjXuABwrfEyGhwaGgkSI7orA6leoj3gXd/IuP8aGtowzTi4DYwJwURE5r95FyIUIGQhSg7ECm9IJelnLCRMpd5V6N9zN40dENvRS2JXlBhefGun3o/2XhQjRBaWeRUiFCBkoRo3gpCv1kU9EBtIFlXXvS4IPVG2FprKGJUhuRtocnHpqCIi8828CREKELKQOdb68OamHshfFDlxlCDBdn8MOjbjLxgIJshOacQmTGWMW2Q51VSHiMx78+KOlQoQsuDV+okmkhhuJ4YfwEt4sM1aB7HFJI6BxwhY+3bEMbe4p1k4F0LGT2U4Wh4jvMNJa51Ba66mFlaKLDiGaZpmpTtRivkeINI//CTv/cyc/hOJiMg8NaenM+Z7gBAREalmc3Y6YyEFiGMv/icvh7/Jqddfs6fgyAiLrrqKj/2vrwCQ3n+I+BPPcThzzJ76psnS5UvZ8FlfSWXOZp4i07eFt46+MMUew7DkRt75q/tKakdERIozJ0PEQgoQF45fx9PBz1H34IdwfeSjJdc7kz7I/m8/ybk3DwFWgPjnv/831rz7Fu6ov6Xk+iePnObFxD5OHTsz+t75E3tI/+iPGD4zWPAYc2SIEeMK7mx+ZvS9s5mnSD7xs6xa8xmuveuPJx1z/uRPOfbin3Pu9P6S+ywiIsWZcyHi6AuP8oYNAeLMHAgQZ15Pc2z3B7n1oY9xw53vKLne6QMp9n/7SRwPfoh93/3OaIC46wEXzltvKLn+iTdP8WJiH7fc7+TFPmt04PyJPbz65EPUXPUBrr7tM5OOuTj0BqcGvsRbZ14efS8XIN5292auumlycBo68TzHXvwcy2/5Q06/+Bcl91tERIozp9ZE5ALETTYECOccCBADXU9y60MP2xYg9j6+A8eDH+Kq227n/IqbbA8QLzy1h1vud3Lt6quBsQCx4saf44a7N7L86rvGvWqWrOT0/r9jyU1eLly06kwnQBzZ/ccsv+W/s+TaB0vut4iIFG/OhIiFFSAyVoBY9/GyBIhjxy7ypvPBsgaIK5ZlRgPENbc0TTpm+NwgR174Y2pu+BRLb/pFYPoBYoUChIhIVZgTIWLhBYgnyhogEs8c5x0Nd5QtQCy68BrvX/M3LJ9BgFi8iGkHiBoFCBGRqlD1ayIWVIAYnJ0Acff7bytrgFh+4DNcdfsv8bZpBoiLp39KTU2NAoSIyBxT1SHiyAuPcqjEADGU6eHsXAkQkbkUIE5PHSBq188oQJx4qZ1r39mmACEiMsdU7XSGAkTxZidAvGJfgHjHH08dIF5QgBARqVZVORKR+dHvcGTvt7juzt9mZOgQQ0OHCu539tBOho4/X/Dkf+61/8nZI89yw92/U3SN2WB/gDgwRYCwaxHlLAeIWxUgRESqVVWGiJP7/okrrriRofQOhi6x39Dp11j5ji8WPPkPH4tz1VXOkmqU2+nX0+yz9SqMA+x9PDYaII4eHabv2RPZAFH657MrQAyf2s3Jlz+rACEiMsdVZYgYOX+YW9d957L7vfzkA1Oe/M3hY9z6MztLqlFOtgeIgwoQIgtCXwjDPZMnsmaINDtpJUy626/HtYutqnZNxHxWlgDxz7MbIIzzr5YtQCxXgBCZUmJnAOtR7+Y0AkSCkOGktWc2eiYLkULELJsvAWLFwd+7bIBYPNMAsftPWH6rbiQlMpVMlw9PO0CM1jqDUB9YIw0GhpF9dSayeycIGR4CFeutLAQKEbNooQWIZdMMEOdzAeKWP1CAELkER0uUeAfkRiLaGiDRmZ2qME3MRBDaPdlwATSFSZtxghXss8xvVbkmYj46/Xqa/f/nX20LEKcOpBjIuwrD7gBx/NApdu+acB+I86+y/BIB4sLZ1zm6+09mHCAOK0CIFClBbzt4I43WWoeGNkyzLbvNTVu3G0hMfbhIiRQiZkEuQNzysXVzLEA4FCAKePHpfdTULLa97vDwRd75gdttryvzWCpJf6X7IAuaQkSZze0AsQqo/gBxNp3mpa99hbeOHi2pzkQjF4Zh6RLW/tW20fd+9Hg/L/14D6tuuBpjkWFbW6ePnuXsqbe48z23ULPU+s9y+Gya86f229ZGzsW3jnDVLT9/2f0q3b5MQ62LeiAwkARddyEVoBBRRvMiQFy4dIAYrnCAuHjuSp7u/CxXrL6Z1Q2XW6k+fedPneLAUz/g7MmTo+/96PF+Xn15kIaH38NiG0ciBn4yyNCyYYaOnBwLEOfSvPbEQwwNnWHx0qttawvzAhdPvcKq23+Jmxu7ptyt0u3LdLlp7ADae0lsceNORfDVtUIkTbRFoULKTyGiTOZNgDhw6QBxpIIB4vzRExz/6YdxvPduVte/r6Ra+YaOH+e1736bt913Pyd3PQVYASL58iDvfvBu2wPEySOnWfO+mzn0+GEAhs8e5LUnPsHiqz9A3e2/ZltbFy8c4cjzf8zwintYds3dU+5X6fZlZtxb0oR3O/EYefeOUICQWaIQUSaDj3+fGgwOfv/7HPz+90uut2jp0tEAAfCTn56lZnEN+35ygH0/OVBy/ZrFi0oOEABnk9tYWgNn9v01Z/b99aTjzEUrbQsQA13/iuO9H7E9QOx9PMaqd7yTt917H6/tesoagXglVdYAsWixdaFU7gRes6qBa2/7Vdvaunj+MEde+BMWrXJjnhuZcr9Kty+X595iYm7Jf8eBv9vEP/URtJkmbVNuFymeQkSZDJ88xQf/cLNt9X7011tHAwTA0FsX+XjrWtvqfy+8azRAAKw4+LssWXyR4SPf480j35u0//D5Eyy58RfGBQgAzme4/eO9U7az93uNtgWIG+97V1kDBMDJG9/LmVdSvGvtXbYGiH3PpyYFiOVLjpf9BL5sdQtn9oUL7jcbAeJS7YvI3KMQUUZLViwvb/1l5fvzLbqQpu5nvjnl9ld/+KuTA0TW4iU2zqFPMJsB4qVXzjLivIv3rr2bRTX23VJl3/MpThw+NS5AGBff5AN3fJmaVevKegKfymwFCBGZXxQiZErLV5W+lsNOsx0gDp+G9z30XlsDRG4K44731WIstq7uMC6+ycoDv8cVLgUIEZlbdMdKmRMqESDe8+F7Zy9A3PSgAoSIzDkaiZCqV6kAsbgMAWLNLAaIxdd4WOr89JT7lTtAXK59EZn7FCKkqs1mgPjxs6c5PQS3vKOWw6ljtrX1xmtHGB6+yJr31bKoSgLEyIVTChAiUjKFCKlq+8JPstiEU3sHeGXvgG11z585wzX33jsaIACOn7jIDW+/nlNHz9rWDsDJw6e5f90d4wNE6r+w/G3v5orr383Qyd22tDNy4QSnkl+7/Al85BzHXvkmS65pqEz7FfDDHf0sW7mkbPXPnR7iQd8DZasvUq0UIqSqDZ88Rf1v/Kbtdfu//tVxAQJgeHiE+g/fY3tbT371+6MBAmDJiRiLzaMsuvAap1/9B9vaGT6XgaXOy57AFw3thZGzFWsf4NTrp9nzT3/Cqddfs639cUZGWHTV1az7+6/w3W/s4uCrGa6vu27ahxtM/5bmh1PHOX3sjEKELEgKEVL1rl69utJdsN11Lj/X3/nbttY8vOcfOHVmeqMolWx/6NBFBv9jP7d85GPc/rF1tvYB4PTBA+x/8kneevMQ3/3GLk6dOE3Dz77H9nYA/jO+jyuuXsaxw8fLUl+k2ilEiMisOfPaQQ794C1cD/0s1995l+31T6UG2f/kkzg+9CH6X7zAFSdOc4/7DtvbAStAmOZFbn33alL73yhLGyLVTiFCRGbFmdcOMtD1r2UNEAOP/zOOD32IgTOrWVZrzkqAEFnIFCJEpOxGA8THP1HWAOH80IfZe8bJhUVLeNeD5XnIlwKEyBiFCBEpKytAPInr458se4B4LnMDI4tMbqy7ild/WvqD6SZ6c/AYK65eWjBA7D94wvb25pPb8p7NI/OHQoSIlNXr3/oBNcYiUr3/Rqr332yvv3jZMpwf+jBX3nYbpwaOcVd93bSPnclVGABnTp7jHQ/eOun946tW8dVvvcDixQaLJ5RctGhh/W92ZGR49J8vmvDW+RGGzg/zxf/eyMF9h4g/8RyH00cr2MMsE5auXMJvfvaXeO3IHnb+dAeHTg5WuleAybKaK/mjT36h0h2ZloX1b7eIzLrhE6f4mT/6/8pW/4f/46+48rbbADCAO949+SRvl1f690967z8PDfHWDdfwKc+dXLVyWdnanot2DxzildcOc/zUGQ7uO8Tjf//vrKmv464Hbqlov04cPs2L8X2cOnaW147s4R/jX+QdN7p5p+ODFe3X8XNv8JMDvZw8d7ii/ZgJhQgRKbuaZfPz5Pp06hyDJ87T8B4XZ98a5uxbw5c/aIHYnzrGgTdPsvZ+B9/beYR//vt/5+7334rzlhsq2q/jh07xn/F9uN7t5IVXnuOb8S9yn3Mtq992e0X7dfRshucO9HLXte/nJ6n/qGhfZkIhQkSkSK+fGOaqK67gpVftu036fHH81Fk+Wr+aK1cs4faz51hsLGLfs4Pse7ayUwY1SxbjereTtzmv5sKKJIsWGbx4KM6Lh+IV7deSRUu569r3c/3Kt1e0HzOlECEiUqRz5y/yW79UnhtZzXVfjuziyhXWrcaNCxdZ9ytrK9wjy3f/cRdvc14NwPDic/z8u/9bhXtk+Zf+/zXnAgQoRIiISBntHkgDULO0uk43x988CStgSc3SSnfFkl2Qe/RMBueqyq4ZmQn7nnUsIiKSZ/feNAePDFW6G5Mcf/MkLyeSle7GJEfPZNh98Ad85N6HK92VaauuaCgiMsek3zxZ6S5UrYNHh/j9X36Ans5UpbsyzkuJJA//+keIDFZ2HcRELxz8Ac2e3+Kdq+fOw9wUIkREirTmxpXs/MEL1NTUcOU1Kyvdnary9htXsuFT93H9qhVcv/pavhfeVekuAbBk+RI+3vRBbn/X23GceDvf6rfvSbalWLZ4JZ/ytM6pAAEKESIiRbv24AHuvvF6Hvr1yt5foNr9wu82VroL4yxdbi34/DX3pgr3ZLxlS1ZUugszphAhIlKEl3+c5MYbr+ehX6+Oqw6qWe6kXW3m4km72mhhpYjMCydSszfvrgAhYlGIEJE570QqxWvf+fastKUAITJG0xkiC4xpzr9bM7/2nW/zgT/8I3bEXmdPf3kv3VOAEBmjECGygAy/dZSRIfsfkX0pV9WuZtf/eHTsDXMYjMUYxmJb6i++8io+8Nv/jZvcHt53ZuaPmzZNc9r73rf2Tn7mF9474zZE5iuFCJEFYnjoKEdf7uBa5+yeBN/+6Yey7R/j2J5HWX1vM9fdb+9TPWtWWpdXvvdj99hatyxSEXx1STabbbhLLpYgZGzFNRjFX1tsjQyRZietPdkfm8Kku/04Rut7CIzu6yWc11ai08DTnt0SSRNtcRTbCZmjtCZCZAEYHjrC0Zc6qH3Xr7DS+eCstr1o2VJGOMXx/X9B3XtbuKnhs9SsXGnra85IRfDVtRKzpdjEE3xxMl0bia5PY5omppkmTCsbuzLWxlSSfoLETTO7fSxAZLp8eHaHSZsmphmn3r+RSHXdU0pmgUKEyDxnBYhOat/1K1z/nlJPOXOv/arRF8Koi+JLhPFeap/mCNlTOJkuH0ZnYvJ+qQg+wwOJOMGpaqUi+IwQo0dPqJ3jaInmjSA4aFzvJbaj19ovlSTW5MI1qXiG3h0Q3pYbsXDTZpYyGiJzlUKECPDW8eOz1taxN07MWluVPoFXuv2q0tA27pv8VPuk10ezIwEJtu/wkd5SYNKj1k/UNGlruEStWj/RBHg6E0CGyDaIj05TTC05EIP7XDiATLIfelpxGgaGYeDLjVCQJNlTD7t8GJO2yUKiECEL3lvHj7Pvu/86K20NPP86i7BnQeHlVPoEXun25ypHy2P4dmzE1+yBTZc/6V9SQxtxPPiaNxJd/8jl12D0hfC0B4lng0tyIAYdcWsqYzAMfiehvtzOAVoHNudt03TGQqQQIQtaLkDc620qe1sDz7/OEmMpdz9wW9nbqvQJvNLtz20O/JvqiRHmkUuNNEyTe0MYeurZfLlFj30hDHc/4cGxBZ/uLSZmbiSk1s/mDgjszE2QeAlvyG1rxNcUI7pLoxELjUKELFj5AeKWh3+urG3lAsQv/s46Fi0u7392uRN43bt/taIBolLtz30JQm4Ij05rlCJDZFMUXyQ3rTHFXl0+DDfEp7GuwbvGBbhwNcVIauRhwdMlnrJgFQoQBwbeKEtbuQBRs6S8Uxkjw2c5kT2BX/futrK2VY3tzweJTg8kTPwNGWjeSGRt8QsWrSsvHiPa4sDVaRDqK7COoi+E019PfNIlp9aln8lN2WNSEba2e/ENWiMajeu9OHcmaGtwQ992Wnu8hLfpEs+FRiFCqtrya9/GM1/fbv1gjmBefItFNcsxFi8tqa6xdOmkAHGv+w7OnDpTUt1C3n6Xg4d+48FxAeLCWxnOHnve1naGzrzGucPPUlf/3y97Aq90+1JYpsuHhzhmA4AD/zYfvroQrmLuKdEXwrnDR7o7e/3Elji9ho/IhHtKJHZao0UeI2/UKHuvCH93nJBhYGTfDibM0WMdLVHinQaGMXmbLBwKEVLVan/hwwAMv/UmJ179CqvvbeWq237Zltqr1twx7ue1vgdsqXs5K27ycHL//+X83v9ta92L509w3ZpPXfYEXun2F7xaP9EpbpLpaIliTnNfi3VpZUENbZjdl9/XWvdwqfomU/1FL32sLAQKEVLVVqy+kQtnD3DipS9xx0N/xNvu+YNKd6lkV9y8jtt+6cUF234xamtr+ehHP8o3vvGNSndFRPJoYaVUtQtnD3Dkpc/hapgfAUJmLhaLcfz4cf7lX/6l0l0RkQkUIqRqKUAIQFtbG2fOnOH8+fP87d/+baW7IyJ5FCKkKilACMDXv/513njDumLm7NmzfOELX6hwj0Qkn0KEVB0FCMn5sz/7M44dOzb685tvvsk3v/nNCvZIRPIpREhVUYCQnC9/+cucOGE9Z2TJkiUAnDt3js9//vOV7JaI5FGIkKqhACE5w8PD/Omf/immafLBD36Qm2++mU984hMsX76cZDLJ448/XukuiggKEVIlLpw9wNGXOxQgBICamhpuvvlmnnjiCX74wx+yatUq/vIv/5Knn36ae+65h5/+9KeV7qKIoBAhVSAXIG79wKY5GyASnYZtj0TOdI09Xtm4xPMOZtq/cf1KRfAZU/U5Q6Q5t81XsScz7tmzh8bGRgDOnz/P0qVLuf/++3n22Wdpa9MNrUSqgUKE2GbkwsxvGT0aIN4/dwNEpsuHZ3eYtGlimnHqS3kk8uhzDExMM014tyfv0cvFSXQaeNrH9dh6KNOgWfAxzolOJ633ZR//nKintS6EPVGmeLkQISLVRSFiDjqXt1q9HM6ePDfjY0YunOHwSx0zOmZcgLh3bgYIyNC7A8Lb/GSfUEBboSch9oUwmiPkvu9nunwFRxkSOwMEE7nnJDjwdxd4YFIqgs/IO7FPqJ3ft0izgYc48XF/Ggf+7rw+jnuMc4bk7tyTGoFaF176K/60RoUIkeqkEDHHnDt2jP3f/XbZ6p89eY6Xnk7O6JhcgFh998PTPub8mdQ8CBAASZI99bDLd+npjIY20qOPdk6wfYeP9JaJj1TKkNztxZUMXXo6o9ZPNJF7tHOGyDaId+dCTD4rhJiT2in0GaDe5QAcNK73EtvRa4WSVJIY9bgq/GAlhQiR6qQQMYfkAsS9vuay1M8FCM8n3jvtY/IDxI3vn96ld+fPpDj2Suc8CBA5AVoHNhecGsjnaHkM346N+Jo9sKnQSR8gRusO1+jUSLB9iumMhjbiePA1byS6/pGZP+ExT6LTQ6AjPjri4WiJkl4fxWkYGNtcpIt5gqTNFCJEqpNCxBySCxC3PPypstTPBYj71941rf2LCRDAPAsQAF7CG7Kn2XFTAxM58G+qJ0aYRyZOUeQJbhqbGmnsgMDOwisS3BvC0FPP5pbCcWQ6Ep2GtZ5jdLTCmgLZyGNWKNoGGyu4uDJHIUKkOukpnmWy4rpr+fFXvzLldnNkCMMwWFSzclr1jKVLxwWIq6+9kvgT/bb0FWBRjYH7E/XTDhBAwQCx9KrbeTX+G1MeYxpXzLMA4cLVFLPWDFx2yD9ByA3hSJSNXY1EJ538Hbjug2gyAw2XCwbZxZGRejydiWlMWRQ4vjm7gLI779hUL9EeL75t2fZrG/E1tRLdlcFfQlgp1dDQEMuWLatY+yJSmEJEmdz8ix+ectvxV8NcdfVVOBr+ckY1r77t9tF//vivfbDovk3lhtprR/958bLrOfDcnxXe0RzBZEnBEYjVH/2/l21n+fXTny6pftYaAufOBG0NbujbTmuPl/C2ySfcRKcHEib+hgw0bySydvICTPe6ILFtvWRa/DhSEba2QzAxOSBkujYSXf8Y0RYHrk6DUF+BBZiXMHoFxsTwMTE0pHqJ9kD9psoFiJGREUZGRqip0f+uRKqN/qsskxWOGwq+f/jlbdxw2zW8/ePdJdXPP+GXg+Nn/u6S26+6+ze5+vaWSe/Pr4AwPY6WKPFOA8Owfg4mzEnhINPlw0McswHAgX+bD19dCNfE9QYNbaTX+3AarQB4I+nJ4aAvhHOHj3R3dtJjS5xew0dksMBVIQUl6G0H8GDkXfrpjaSJtjjwd8dJGk4M/9j7MwkodtNUhkj1MkzTNCvdiYle/orB3Q8/c/n9nnyAqx8ofKXCyWc+WXINux1+eRvXXFt6gBBZSE6ePEldXd3oczREpHpoYeUsUYAQKY5GIkSql0LELFCAECmeQoRI9VKIKDMFCJHSDA0NKUSIVCmFiDJSgBAp3fnz53V5p0iVUogoEwUIEXtoOkOkeilElIEChIh9FCJEqpdChM0UIETspRAhUr0UImxkR4BIdE58CmSCUO6JjjY+w6Ds7aQi+Ebr5T22Ok+myzfFI6xFxihEiFQvhQib2BUgPO0T37NulWyaJmainta6wifk6monQaiulfpsvXSkP/vY6jypCBv9saJbkIVDIUKkeilE2KD0AGE9OdFDnHjH+C3uLXnPRGhoJEi/9bCnfKkIvvxv+32hKb7hz1I7fb2THi09/hkN1sOj6ju8k3ooMpFChEj1UogokT1rIBz4u83LP4mxr5cA9bgmPh+h1k80QfbbfobINoh35x4nPfvtZJL9eNck86ZHxo9qZLo20nrfZh5Zc+luiICe4ClSzfQArhLM3iLK7GObe6yHIRWMAA1txHca+Jq9sP4xohVuJ+aP4hs0MWuz0yedjdnwkmC7v5646YauojopC4xGIkSql0YiijS7V2FkRxDMNL4dzgkLIse4N4Shp57NLcU+ttnGdjo2jz5R0r0uCO29JMitvWgrHFBEClCIEKleChFFqNxlnA5c90FsIFlgm7XOwBdh8iLGWW7H4aqH3ckCazKsR1AH3NY0h9Mfg55WnLpCQy5BIUKkeilEzNDsBghrIWSoL/ezdRIOrpv8PT7TtZHo+sfwt7QRx5N3TAXaaWgk2BOlN5WtvS0AHY24cdNmZq8AMU3SES80hUkXXL8hYlGIEKleChEzMPsjEA783XFw5xYoeuiPpMeuosjpC+Hc4eOx7PSCe0sc3DO514Pd7bhpG/QRrTMwDCethElfbjGnyBQUIkSql2GaplnpTkz08lcM7n74mcvv9+QDXP3AtwtuO/nMJ0uukU93ohSpjEcffZQjR47whS98odJdEZEJNBIxDQoQIpWjkQiR6qUQcRkKECKVNTQ0pBAhUqUUIi5BAUKk8u655x7dbEqkSs3Lm00dfnkbpX5vUYAQqQ6f/vSnK90FEZnCvBuJyJ387aihACEiIjK1eRUi7Dj5K0CIiIhMz7wJEQoQIiIis2tehAgFCBERkdk350OEAoSIiEhlVO3VGYf3fmVa+13q5G9HDRERESmsKkcirntPO1xxw2Vf19yzccqTvx01RGQGUhF8Ru75KyFKe5ZsgtBorZk8B+YyVTuN8Y+4H9fnCduyD6azuw8i80lVPjtDROaaDJHmjbAtir8WMl0+nDt8RT+hNdFp0LvOtB4C1xfCcEPcbKOUx7glOg087eCNpIm2OCb1mVQEX10U36D1c6LTwEMcc4vbtj6IzDdVORIhInONA3939mQMONb68PYkSU7crS+E0Rwh930/0+XD6Jw8ZuHeYo49RbahkSD9JCeOBKQi+PJHPCbUHmONKHiIE++Yus/UNuJrihHdlQEyJHeDd40ru82Ft1AfRBY4hQgRsV1mV5RYkwvXxA0NbaTXR9nYlQESbN/hu/xj4vt6CVCPq3bC+7V+ognwdCaADJFtEC848uHA321aIwqXlCTZA/UuB+Cgcb2X2I5eK5SkksQK9UFkgavahZUiMhclCBkeAkAwES04leFoeQxf80Z8O2LUbzIvMd2RIdLspLXHmoIoGAEa2ojvNPA1e2H9Y0RL6Xmnh0BHHLMh188oaXw4jVZoCpM2i5uaEZnPNBIhIjZy02aamGYc3AahvkL7OPBvqidGmEcaCm3P26/bxDTT+HY4Jyx6zGtxQxh66tncUvwpPtFp4NkdzhsVsaZANvIYpmliboONWlwpMolChIiUgQtXE/QnC534E4TcEB6d1rgcB677IDYwaYUFkCGyKYovkpvWmKmx9RJm/lRIqpdojxff2uw749ZLiEiOQoSI2CBBKP+b+sSTcP6enR5ItOFveQzfjo0Fvt1bJ/axUYwEve0QXDd5QiPTtZHo+sfwt7QRxzPFyMclet3ppPW++OT1EhNDQ6qX6Oh6CRHJUYgQERu4aRv0Ea3L3lehrpX6RN6VD1mZLh8e4tkrLxz4qEr8HwAAAoVJREFUt/mI1k28p4QDf7c1HWLdo8FDfyQ9drVGTl8I5w4fj2WnMdxb4uCeyZSDFU5o94zeJ2LsXhFWH+r9ztHPQ6E+iCxwuk+EiIiIFKXEkYj8O7oZk67RTnSObZvpMGNl2hlfa/p3thMREVl4SgoR1nxk2lq9bKYJ0zq6UCrT5bNWO5sm5mCY/hkNM1amHfpC1gKr7Oryer8zG0qyi7cGTWvbYBj8heZyRUREFo6SQoSjJZq9fSxMvDlLciAG97ms1c61LuqJFX3Hudlqh4a2vAVWbho7cqvLL3VnOxERkYXJ1oWV+Sd097ogtPdaJ+5Ukn68JdxxrhLtWIuuCq/Gzr+znYiIyMJk38LKQg+o6QthuANA8JIPrkl0Gmzdnb3j3OVuGDML7WS6fDj9MesudQXCxrgH84iIiCxQ9oxE9IUw3P2EB8dO4IlOA2NnY3Z9QSO9l1j0OO07zs1SO46WKKZpkl4fxVlgEef4O9uJiIgsTCWHiEyXLzsykH9N+MSbw1jrCwI7C91Rbnp3nJutdvI5XPUw+iTCKe5sJyIiskCVFiL6Qjj99QWmECaezK2T/ehjdfNM645zs9TOxMcSJ3YGoKMRN5e4s52IiMhCZZYg3oEJE15NYTNtmqZpps1wU977HfHJBRLBvP1N0zTjZhCvGR6sTDuT2ho9Jm4GJ7YPpjeSnlxARERkgdAdK0VERKQoenaGiIiIFEUhQkRERIqiECEiIiJFUYgQERGRoihEiIiISFEUIkRERKQoChEiIiJSFIUIERERKYpChIiIiBRFIUJERESKohAhIiIiRVGIEBERkaIoRIiIiEhRFCJERESkKAoRIiIiUhSFCBERESnK/w/cHAHNmEE96AAAAABJRU5ErkJggg==)\n",
        "\n",
        "*Figure 1*\n",
        "\n",
        "\n",
        "## Data preparation\n",
        "For y-value ground-truth labels, the labels have been formatted into categorical, One-Hot-Encoding format.\n",
        "\n",
        "The MNIST dataset has been normalised to values between [0, 1].\n",
        "\n",
        "The addNIST dataset has been split by colour channel. Thus, each addNIST image has been split into three images, one for each of the RGB (Red, Green, Blue) colour channels.\n",
        "\n",
        "## Training\n",
        "The model was trained using the MNIST 'training' dataset, and the MNIST 'test' dataset was used for validation during the training process.\n",
        "A batch size of 200 has been used because it offered the best accuracy results after comparisons of batch sizes ranging from 30 to 300.\n",
        "Keras' Callbacks API has been used to implement \"early stopping\", which will stop training if there is a plateau in the increase of validation accuracy score. When early stopping is invoked, the weights of the best epoch are reset on the model. This, to some extent, automates finding the optimum number of epochs. The number of epochs has been explicitly set at 25; this has been done to allow appropriate 'room' for early stopping to be invoked before the last epoch, to allow selection of the 'best' epoch, which commonly occurs between epoch 7  and 16.\n",
        "\n",
        "The training performance of the model can be seen in the chart outputs of cells 23 and 24; chart outputs from last run are displayed in Figure 2 and Figure 3. The use of both dropout layers and callback optimisation of the number of epochs appears to have minimised overfitting to a good degree.\n",
        "The final model was then evaluated using the split addNIST images, original images coming from the addNIST 'test' dataset.\n",
        "\n",
        "![image.png](data:image/png;base64,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)\n",
        "\n",
        "_Figure 2 - Training and validation loss from last run_\n",
        "\n",
        "![image.png](data:image/png;base64,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)\n",
        "\n",
        "_Figure 3 - Training and validation accuracy scores from last run_\n",
        "\n",
        "## Results\n",
        "The model provided the following results when used to predict on the addNIST test data:\n",
        "\n",
        "- Accuracy score for AddNIST test data: 0.9898 (98.98%)\n",
        "\n",
        "Accuracy ranges slightly run-to-run in the range of: 97.6% - 98.9%\n",
        "\n",
        "## Evaluating the results\n",
        "Accuracy was picked as the metric of success for this model because it is often one of the best metrics of success for a classification model where there is a good distribution of data across the different classes, as is the case for the addNIST dataset.\n",
        "Given the accuracy provided, we can say that the model provides an effective means of classifying the addNIST dataset. Given that the model's prediction accuracy approaches 100%. However, improvements are likely possible but could not be found during the development of this notebook.\n",
        "\n",
        "## Conclusion\n",
        "Splitting out the addNIST images into three separate  images and passing them through a network trained on the MNIST dataset is a valid and effective way to classify data in the addNIST dataset. Furthermore, the model in this notebook has been effective in doing exactly that.\n"
      ]
    }
  ],
  "metadata": {
    "accelerator": "GPU",
    "colab": {
      "collapsed_sections": [],
      "name": "Copy of ML-Task1.ipynb",
      "provenance": []
    },
    "kernelspec": {
      "display_name": "Python 3",
      "name": "python3"
    },
    "language_info": {
      "name": "python"
    }
  },
  "nbformat": 4,
  "nbformat_minor": 0
}
