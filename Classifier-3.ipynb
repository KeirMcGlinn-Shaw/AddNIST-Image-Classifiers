{
  "cells": [
    {
      "cell_type": "markdown",
      "metadata": {},
      "source": [
        "# Classifier 2\n",
        "This classifier works by training the model directly on the training sets of the AddNIST dataset. The model itself is a novel Convolutional Neural Network. A description and evaluation of the model can be found in the short technical report at the end of this file."
      ]
    },
    {
      "cell_type": "markdown",
      "metadata": {
        "id": "Iw6KdNu5vhpZ"
      },
      "source": [
        "## Connect to Google Drive to retrieve data\n",
        "You can use the below cell to connect to your own google drive, if that is where you are storing the addNIST data you want to use for this notebook. If you are using data stored locally, leave this cell commented out."
      ]
    },
    {
      "cell_type": "code",
      "execution_count": null,
      "metadata": {
        "id": "Sc4AJyBjtHcN"
      },
      "outputs": [],
      "source": [
        "# to access google drive folder\n",
        "# from google.colab import drive\n",
        "# drive.mount('/content/drive') # When you run this you'll be prompted for a token - follow the link to generate this."
      ]
    },
    {
      "cell_type": "markdown",
      "metadata": {
        "id": "bC2GeKqpvrGA"
      },
      "source": [
        "## Load data"
      ]
    },
    {
      "cell_type": "code",
      "execution_count": null,
      "metadata": {
        "id": "50jMPuN3tSyO"
      },
      "outputs": [],
      "source": [
        "import numpy as np\n",
        "\n",
        "train_x = np.load(\"data/MNP/train_x.npy\", allow_pickle=True)\n",
        "\n",
        "# Alternative file-path for use with Google Drive, if that is where you have stored your AddNIST data\n",
        "#train_x = np.load(\"/content/drive/MyDrive/data/MNP/train_x.npy\", allow_pickle=True)"
      ]
    },
    {
      "cell_type": "code",
      "execution_count": null,
      "metadata": {
        "id": "o6AUUCiGtWM7"
      },
      "outputs": [],
      "source": [
        "train_y = np.load(\"data/MNP/train_y.npy\", allow_pickle=True)\n",
        "\n",
        "# Alternative file-path for use with Google Drive, if that is where you have stored your AddNIST data\n",
        "#train_y = np.load(\"/content/drive/MyDrive/data/MNP/train_y.npy\", allow_pickle=True)"
      ]
    },
    {
      "cell_type": "code",
      "execution_count": null,
      "metadata": {
        "id": "7rYykZHO89qJ"
      },
      "outputs": [],
      "source": [
        "validate_x = np.load(\"data/MNP/valid_x.npy\", allow_pickle=True)\n",
        "\n",
        "# Alternative file-path for use with Google Drive, if that is where you have stored your AddNIST data\n",
        "#validate_x = np.load(\"/content/drive/MyDrive/data/MNP/valid_x.npy\", allow_pickle=True)"
      ]
    },
    {
      "cell_type": "code",
      "execution_count": null,
      "metadata": {
        "id": "Epod6k5h9FNu"
      },
      "outputs": [],
      "source": [
        "validate_y = np.load(\"data/MNP/valid_y.npy\", allow_pickle=True)\n",
        "\n",
        "# Alternative file-path for use with Google Drive, if that is where you have stored your AddNIST data\n",
        "#validate_y = np.load(\"/content/drive/MyDrive/data/MNP/valid_y.npy\", allow_pickle=True)"
      ]
    },
    {
      "cell_type": "code",
      "execution_count": null,
      "metadata": {
        "id": "8KuZQCe-9s3R"
      },
      "outputs": [],
      "source": [
        "test_x = np.load(\"data/MNP/test_x.npy\", allow_pickle=True)\n",
        "\n",
        "# Alternative file-path for use with Google Drive, if that is where you have stored your AddNIST data\n",
        "#test_x = np.load(\"/content/drive/MyDrive/data/MNP/test_x.npy\", allow_pickle=True)"
      ]
    },
    {
      "cell_type": "code",
      "execution_count": null,
      "metadata": {
        "id": "01hcEICvL9BN"
      },
      "outputs": [],
      "source": [
        "test_y = np.load(\"data/MNP/test_y.npy\", allow_pickle=True)\n",
        "\n",
        "# Alternative file-path for use with Google Drive, if that is where you have stored your AddNIST data\n",
        "#test_y = np.load(\"/content/drive/MyDrive/data/MNP/test_y.npy\", allow_pickle=True)"
      ]
    },
    {
      "cell_type": "markdown",
      "metadata": {
        "id": "pjqB25NKejWy"
      },
      "source": [
        "### Check the shape of the data\n"
      ]
    },
    {
      "cell_type": "code",
      "execution_count": null,
      "metadata": {
        "id": "_qZpYDm79z1u"
      },
      "outputs": [],
      "source": [
        "print(\"train_x shape:\", train_x.shape)\n",
        "print(\"validate_x shape:\", validate_x.shape)\n",
        "print(\"test_x shape:\", test_x.shape)"
      ]
    },
    {
      "cell_type": "markdown",
      "metadata": {
        "id": "uckWdqwWBKUS"
      },
      "source": [
        "## Task 2"
      ]
    },
    {
      "cell_type": "markdown",
      "metadata": {
        "id": "T-MpHIZnSycz",
        "nteract": {
          "transient": {
            "deleting": false
          }
        }
      },
      "source": [
        "### Importing libraries"
      ]
    },
    {
      "cell_type": "code",
      "execution_count": null,
      "metadata": {
        "gather": {
          "logged": 1612280524529
        },
        "id": "1BdCvqTgSyc0"
      },
      "outputs": [],
      "source": [
        "import numpy as np\n",
        "from tensorflow import keras\n",
        "from tensorflow.keras import layers\n",
        "import tensorflow as tf\n",
        "import cv2 as cv2"
      ]
    },
    {
      "cell_type": "markdown",
      "metadata": {
        "id": "fjFmr__4yZzk"
      },
      "source": [
        "### Define number of classes and input shape to be used by the model"
      ]
    },
    {
      "cell_type": "code",
      "execution_count": null,
      "metadata": {
        "id": "J9jDs8tMBLz5"
      },
      "outputs": [],
      "source": [
        "num_classes = 20\n",
        "input_shape = (56, 56, 3)"
      ]
    },
    {
      "cell_type": "markdown",
      "metadata": {
        "id": "k88Gau6ryqZR"
      },
      "source": [
        "### Convert ground-truth label data into catagorical (One-hot-encoding) data"
      ]
    },
    {
      "cell_type": "code",
      "execution_count": null,
      "metadata": {
        "id": "v8vu0uRLSeYM"
      },
      "outputs": [],
      "source": [
        "train_y = keras.utils.to_categorical(train_y, num_classes)\n",
        "validate_y = keras.utils.to_categorical(validate_y, num_classes)\n",
        "test_y = keras.utils.to_categorical(test_y, num_classes)"
      ]
    },
    {
      "cell_type": "markdown",
      "metadata": {
        "id": "AGu5wnBW0U5l"
      },
      "source": [
        "### Reshape image data so that it can be fed into the model\n",
        "Reshape from (Num_samples, colour_channels, height, width) to (Num_samples, height, width, colour_channels)"
      ]
    },
    {
      "cell_type": "code",
      "execution_count": null,
      "metadata": {
        "id": "zWlqufD-SfQl"
      },
      "outputs": [],
      "source": [
        "train_x = np.reshape(train_x, (45000, 28, 28, 3))\n",
        "validate_x = np.reshape(validate_x, (15000, 28, 28, 3))\n",
        "test_x = np.reshape(test_x, (10000, 28, 28, 3))\n",
        "\n",
        "# Print shape after re-shape\n",
        "print(\"train_x shape:\", train_x.shape)\n",
        "print(\"validate_x shape:\", validate_x.shape)\n",
        "print(\"test_x shape:\", test_x.shape)"
      ]
    },
    {
      "cell_type": "markdown",
      "metadata": {
        "id": "o_qapgAw1N7u"
      },
      "source": [
        "### Resize images\n",
        "Images resized because feeding larger images into the model provides better inference (in terms of improved accuracy, loss, recall, precision and f1 scores)"
      ]
    },
    {
      "cell_type": "code",
      "execution_count": null,
      "metadata": {
        "id": "4UZlDnZBJCz5"
      },
      "outputs": [],
      "source": [
        "train_x = tf.image.resize(train_x, (56, 56), preserve_aspect_ratio=True)\n",
        "validate_x = tf.image.resize(validate_x, (56, 56), preserve_aspect_ratio=True)\n",
        "test_x = tf.image.resize(test_x, (56, 56), preserve_aspect_ratio=True)\n",
        "\n",
        "# Print shape of newly resized image arrays\n",
        "print(\"train_x shape:\", train_x.shape)\n",
        "print(\"validate_x shape:\", validate_x.shape)\n",
        "print(\"test_x shape:\", test_x.shape)"
      ]
    },
    {
      "cell_type": "markdown",
      "metadata": {
        "id": "F0mC93US2o3I"
      },
      "source": [
        "### Define the model\n",
        "The model is a Convolutional Neural Network consisting of four sets of Convolutional layers of increasing filter number, moderated by batch normalization layers.\n",
        "\n",
        "To allow the increasingly large number of filters in each conv-layer, max pooling layers have been used to reduce the dimensionality of the output from each set of convolutional layers"
      ]
    },
    {
      "cell_type": "code",
      "execution_count": null,
      "metadata": {
        "id": "dzxpthhoafdI"
      },
      "outputs": [],
      "source": [
        "from keras.models import Sequential\n",
        "from keras.layers import Conv2D, Lambda, MaxPooling2D # convolution layers\n",
        "from keras.layers import Dense, Dropout, Flatten # core layers\n",
        "from keras.layers import BatchNormalization\n",
        "\n",
        "model = Sequential()\n",
        "model.add(Conv2D(32, (3, 3), activation='relu', padding='same', input_shape=input_shape))\n",
        "model.add(BatchNormalization())\n",
        "model.add(Conv2D(32, (3, 3), activation='relu', padding='same'))\n",
        "model.add(MaxPooling2D((2, 2)))\n",
        "model.add(Dropout(0.2))\n",
        "\n",
        "model.add(Conv2D(64, (3, 3), activation='relu', padding='same'))\n",
        "model.add(BatchNormalization())\n",
        "model.add(Conv2D(64, (3, 3), activation='relu', padding='same'))\n",
        "model.add(MaxPooling2D((2, 2)))\n",
        "model.add(Dropout(0.2))\n",
        "\n",
        "model.add(Conv2D(128, (3, 3), activation='relu', padding='same'))\n",
        "model.add(BatchNormalization())\n",
        "model.add(Conv2D(128, (3, 3), activation='relu', padding='same'))\n",
        "model.add(MaxPooling2D((2, 2)))\n",
        "model.add(Dropout(0.2))\n",
        "\n",
        "model.add(Conv2D(256, (3, 3), activation='relu', padding='same'))\n",
        "model.add(BatchNormalization())\n",
        "model.add(Conv2D(256, (3, 3), activation='relu', padding='same'))\n",
        "model.add(MaxPooling2D((2, 2)))\n",
        "model.add(Dropout(0.2))\n",
        "\n",
        "model.add(Flatten())\n",
        "model.add(Dense(256, activation='relu'))\n",
        "model.add(BatchNormalization())\n",
        "model.add(Dropout(0.5))\n",
        "model.add(Dense(20, activation='softmax'))\n",
        "\n",
        "model.summary()"
      ]
    },
    {
      "cell_type": "markdown",
      "metadata": {
        "id": "0h3ZhfnL4Guu"
      },
      "source": [
        "### Compile and train the model\n",
        "\n"
      ]
    },
    {
      "cell_type": "code",
      "execution_count": null,
      "metadata": {
        "id": "hn_paEsYaqGq"
      },
      "outputs": [],
      "source": [
        "batch_size = 200\n",
        "epochs = 35\n",
        "\n",
        "model.compile(loss=\"categorical_crossentropy\", optimizer=\"adam\", metrics=[\"accuracy\", \"Precision\", \"Recall\"])\n",
        "\n",
        "history = model.fit(train_x, train_y, batch_size=batch_size, epochs=epochs, validation_data=(validate_x, validate_y))"
      ]
    },
    {
      "cell_type": "markdown",
      "metadata": {
        "id": "SygDrG7VtJxz"
      },
      "source": [
        "### Save the trained model"
      ]
    },
    {
      "cell_type": "code",
      "execution_count": null,
      "metadata": {
        "id": "7RBwHYnGrizZ"
      },
      "outputs": [],
      "source": [
        "model.save(\"models/task-3/Task-3-model\")"
      ]
    },
    {
      "cell_type": "markdown",
      "metadata": {
        "id": "SWlISLmK4cY8"
      },
      "source": [
        "## Visualise the training and validation results"
      ]
    },
    {
      "cell_type": "markdown",
      "metadata": {
        "id": "OSk3oZNO4nU8"
      },
      "source": [
        "### Visualise comparison of loss in training data and in validation data for each epoch in training"
      ]
    },
    {
      "cell_type": "code",
      "execution_count": null,
      "metadata": {
        "collapsed": true,
        "gather": {
          "logged": 1611659614389
        },
        "id": "2tgFE-zCSyc8",
        "jupyter": {
          "outputs_hidden": false,
          "source_hidden": false
        },
        "nteract": {
          "transient": {
            "deleting": false
          }
        }
      },
      "outputs": [],
      "source": [
        "import matplotlib.pyplot as plt\n",
        "\n",
        "# Plot training and validation loss\n",
        "# Code taken from CSC3138 Practical2a.ipynb\n",
        "\n",
        "history_dict = history.history\n",
        "loss_values = history_dict['loss']\n",
        "val_loss_values = history_dict['val_loss']\n",
        "\n",
        "epochs = range(1, len(loss_values) + 1)\n",
        "\n",
        "plt.plot(epochs, loss_values, 'bo', label='Training loss') # blue dots\n",
        "plt.plot(epochs, val_loss_values, 'b', label='Validation loss') # blue line\n",
        "plt.xlabel('Epochs')\n",
        "plt.ylabel('Loss')\n",
        "plt.legend()\n",
        "\n",
        "plt.show()"
      ]
    },
    {
      "cell_type": "markdown",
      "metadata": {
        "id": "jzp9vLOs4uVP"
      },
      "source": [
        "### Visualise comparison of accuracy in training data and in validation data for each epoch in training"
      ]
    },
    {
      "cell_type": "code",
      "execution_count": null,
      "metadata": {
        "collapsed": true,
        "gather": {
          "logged": 1611659711261
        },
        "id": "CUoWAuYlSyc9",
        "jupyter": {
          "outputs_hidden": false,
          "source_hidden": false
        },
        "nteract": {
          "transient": {
            "deleting": false
          }
        }
      },
      "outputs": [],
      "source": [
        "# Plot training and validation accuracy\n",
        "# Code taken from CSC3138 Practical2a.ipynb\n",
        "\n",
        "plt.clf()\n",
        "acc = history_dict['accuracy']\n",
        "val_acc = history_dict['val_accuracy']\n",
        "\n",
        "plt.plot(epochs, acc, 'bo', label='Training acc')\n",
        "plt.plot(epochs, val_acc, 'b', label='Validation acc')\n",
        "plt.title('Training and validation accuracy')\n",
        "plt.xlabel('Epochs')\n",
        "plt.ylabel('Accuracy')\n",
        "plt.legend()\n",
        "\n",
        "plt.show()"
      ]
    },
    {
      "cell_type": "markdown",
      "metadata": {
        "id": "j2ui0Nja4Mxh"
      },
      "source": [
        "### Evaluate the model using the data saved for testing"
      ]
    },
    {
      "cell_type": "code",
      "execution_count": null,
      "metadata": {
        "id": "Rnn3O27Fb4HN"
      },
      "outputs": [],
      "source": [
        "# results contains a 1D array with 4 elements. Each element is a floating point value representing the metrics defined in mode.compile + loss. E.g., [loss, accuracy, precision, recall]\n",
        "results = model.evaluate(test_x, test_y, batch_size=128)\n",
        "\n",
        "precision = results[2]\n",
        "recall = results[3]\n",
        "\n",
        "f1 = 2 * ((precision * recall) / (precision + recall))\n",
        "\n",
        "print(\"Evaluate on test data\")\n",
        "print(\"Test loss:\", results[0])\n",
        "print(\"Test accuracy\", results[1])\n",
        "print(\"Test precision\", results[2])\n",
        "print(\"Test recall\", results[3])\n",
        "print(\"Test F1 score\", f1)"
      ]
    },
    {
      "cell_type": "markdown",
      "metadata": {
        "id": "uEMq6lWu45Ob"
      },
      "source": [
        "### Visualise results in a confusion matrix\n",
        "Matrix plots predictions from test data, against ground truth labels"
      ]
    },
    {
      "cell_type": "code",
      "execution_count": null,
      "metadata": {
        "id": "l6VRY3UpzVEQ"
      },
      "outputs": [],
      "source": [
        "import sklearn.metrics as metrics\n",
        "import matplotlib.pyplot as plt"
      ]
    },
    {
      "cell_type": "code",
      "execution_count": null,
      "metadata": {
        "collapsed": true,
        "gather": {
          "logged": 1611660033738
        },
        "id": "KsBkT9VSSyc9",
        "jupyter": {
          "outputs_hidden": false,
          "source_hidden": false
        },
        "nteract": {
          "transient": {
            "deleting": false
          }
        }
      },
      "outputs": [],
      "source": [
        "import sklearn.metrics as metrics\n",
        "\n",
        "# Function to plot the confusion matrix:\n",
        "# Code taken from CSC3138 Practical2a.ipynb\n",
        "def plot_confusion_matrix(gt, pred, classes=0, normalize=False, title='Confusion Matrix', cmap=plt.cm.Blues):\n",
        "\n",
        "    cm = metrics.confusion_matrix(gt, pred)\n",
        "    np.set_printoptions(precision=2)\n",
        "\n",
        "    if normalize:\n",
        "        cm = cm.astype('float') / cm.sum(axis=1)[:, np.newaxis]\n",
        "\n",
        "    plt.imshow(cm, interpolation='nearest', cmap=cmap)\n",
        "    plt.title(title)\n",
        "    plt.colorbar()\n",
        "    tick_marks = np.arange(len(classes))\n",
        "\n",
        "    plt.xticks(tick_marks, fontsize=7)\n",
        "    plt.yticks(tick_marks, fontsize=7)\n",
        "\n",
        "    plt.grid(True)\n",
        "\n",
        "    plt.ylabel('Ground Truth')\n",
        "    plt.xlabel('Predictions')\n",
        "    plt.tight_layout()\n",
        "    plt.savefig(f\"cm.pdf\", bbox_inches='tight')\n",
        "    plt.show()\n",
        "    plt.close()\n",
        "\n",
        "\n",
        "y_pred = model.predict(test_x)\n",
        "\n",
        "# plot the confusion matrix\n",
        "plot_confusion_matrix(np.argmax(test_y, axis=1), np.argmax(y_pred, axis=1), [0, 1, 2, 3, 4, 5, 6, 7, 8, 9, 10, 11, 12, 13, 14, 15, 16, 17, 18, 19])"
      ]
    },
    {
      "cell_type": "markdown",
      "metadata": {
        "id": "5D5u5bSQ73HI"
      },
      "source": [
        "# Report\n"
      ]
    },
    {
      "cell_type": "markdown",
      "metadata": {
        "id": "JFvkQOj-76Dy"
      },
      "source": [
        "# Creating a Convolutional Neural Network Classifier for the addNIST Dataset\n",
        "## Introduction\n",
        "The aim of this report is to examine the effectiveness of the novel convolutional neural network created in this notebook when it is deployed as a classifier for the addNIST dataset.\n",
        "\n",
        "## Background\n",
        "The addNIST dataset is a dataset comprising of three 'hand-written' digits from the MNIST library, overlayed on top of each other, separated into the three RGB colour channels (Red, Green, Blue).\n",
        "\n",
        "## Data preparation\n",
        "For ground-truth labels, as in the notebooks for Task-1 and Task-2, the labels have been formatted into categorical, One-Hot-Encoding format.\n",
        "\n",
        "For the x data (addNIST images), as in the notebook for Task-2, these have not been split into separate colour channels, and are therefore passed into the network as a single image. These images have also been resized to 56x56 pixels each. This has been done to improve classification accuracy.\n",
        "\n",
        "The image arrays have also been re-shaped from (colour-channels, height, width) to (height, width, colour-channels) so that they are in the correct shape to be fed into the model.\n",
        "\n",
        "Additionally, the use of Keras' ImageDataGenerator to augment the training and validation data was attempted. The aim was to increase the generalization of learning and therefore test accuracy, by generating new samples which were copies of original samples, augmented to have a variation in rotation of between -20 and 20 degrees. However, this was abandoned due to a considerable increase in training time and only a slight increase in accuracy.\n",
        "\n",
        "## The model\n",
        "The model is a convolutional neural network, consisting of four sets of 2 Convolutional layers, 1 batch-normalization layer, 1 Max-pooling layer and 1 dropout layer; followed by one fully-connected dense layer, a final Dropout layer and batch-normalization layer, and a dense layer with softmax activation for final classification. The model is shown in Figure-1.\n",
        "\n",
        "Dropout has been used to moderate overfitting, by dropping out some of the output features from the previous layers. This helps increase the generalisation of the model's inference, and thus reduces overfitting. To the same end, batch normalization has been added.\n",
        "\n",
        "![image.png](data:image/png;base64,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)\n",
        "\n",
        "_Figure 1_\n",
        "\n",
        "## Training\n",
        "The model has been trained using the 'train' addNIST data provided and validated using the 'validate' addNIST data.\n",
        "\n",
        "A batch size of 200 has been used because it offered the best accuracy results after comparisons of batch sizes ranging from 30 to 300.\n",
        "\n",
        "The model has been trained using the 'train' addNIST data provided and validated using the 'validate' addNIST data.\n",
        "A batch size of 200 has been used because it offered the best accuracy results after comparisons of batch sizes ranging from 30 to 300.\n",
        "\n",
        "The number of epochs for training has been set at 35. This number of epochs has been picked following a trial-and-error process to find the optimum number of epochs to get the best performance, while not increasing training time too much. The number of epochs has been picked this way, and not using Keras' callbacks API, because the early stopping callbacks proved ineffective for this model as it was hard to fine-tune the patience of the callback, so that it would find the optimal epoch, e.g. it would stop too early or too late.\n",
        "\n",
        "## Results\n",
        "The model provided the following results when evaluating using the addNIST test data:\n",
        "- Test loss: 0.12170794606208801\n",
        "- Test accuracy 0.9775999784469604\n",
        "- Test precision 0.9794486165046692\n",
        "- Test recall 0.9769999980926514\n",
        "- Test F1 score 0.9782227749987361\n",
        "\n",
        "## Evaluating the results\n",
        "Accuracy was picked as the metric of success for this model because it is often one of the best metrics of success for a classification model where there is a good distribution of data across the different classes, as is the case for the addNIST dataset.\n",
        "\n",
        "Given the accuracy provided, we can say that the model provides an effective means of classifying the addNIST dataset, as the model's prediction accuracy approaches 100%. However, improvements are likely possible but could not be found during the development of this notebook.\n",
        "\n",
        "## Conclusion\n",
        "This model provided a slightly lower accuracy score than that provided by the solution for Task-1. That might lead to a conclusion that splitting out the addNIST images is, while a more intensive data-engineering process, is a better solution. However, it could also be concluded that there is some inefficiency in the model provided in this notebook which has been overlooked during development. In either case, this report will conclude that the model is an effective classifier for the addNIST dataset.\n",
        "\n",
        "## Credits\n",
        "Code for charts that show training accuracy, training loss and confusion matrix is based upon code within CSC3831 Practical2a.ipynb"
      ]
    }
  ],
  "metadata": {
    "colab": {
      "collapsed_sections": [],
      "name": "ML-Task3.ipynb",
      "provenance": []
    },
    "kernelspec": {
      "display_name": "Python 3",
      "name": "python3"
    },
    "language_info": {
      "name": "python"
    }
  },
  "nbformat": 4,
  "nbformat_minor": 0
}
